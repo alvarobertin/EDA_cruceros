{
 "cells": [
  {
   "cell_type": "code",
   "execution_count": 32,
   "metadata": {},
   "outputs": [],
   "source": [
    "import matplotlib.pyplot as plt\n",
    "import seaborn as sns\n",
    "import plotly.express as px\n",
    "import pandas as pd\n",
    "import numpy as np\n",
    "from sklearn.model_selection import train_test_split\n"
   ]
  },
  {
   "cell_type": "code",
   "execution_count": 15,
   "metadata": {},
   "outputs": [],
   "source": [
    "from plotly.subplots import make_subplots\n",
    "import plotly.graph_objects as go\n",
    "def plotlyhistograms(data, variables):\n",
    "    '''\n",
    "    Plot histograms using plotly\n",
    "    Args:\n",
    "        Data: data frame\n",
    "        variables: name of variables to plot \n",
    "    '''\n",
    "  \n",
    "    fig = make_subplots(rows=1, cols=len(variables))\n",
    "    for i, col in enumerate(variables):\n",
    "        fig.add_trace(go.Histogram(x=data[col], name=col), row=1, col=i+1 )\n",
    "\n",
    "    fig.show()\n",
    "def plotlyboxplot(data, y):\n",
    "    '''\n",
    "    Plot boxplots using plotly\n",
    "    args:\n",
    "      data: data frame\n",
    "      y: name of variables to plot \n",
    "    '''\n",
    "  \n",
    "    fig = make_subplots(rows=1, cols=len(y))\n",
    "\n",
    "    for i, col in enumerate(y):\n",
    "        fig.add_trace(go.Box(y=data[col], name=col), row=1, col=i+1 )\n",
    "\n",
    "    fig.show()"
   ]
  },
  {
   "cell_type": "markdown",
   "metadata": {},
   "source": [
    "Vamos a realizar la exploración de los datos"
   ]
  },
  {
   "cell_type": "code",
   "execution_count": 3,
   "metadata": {},
   "outputs": [
    {
     "data": {
      "text/html": [
       "<div>\n",
       "<style scoped>\n",
       "    .dataframe tbody tr th:only-of-type {\n",
       "        vertical-align: middle;\n",
       "    }\n",
       "\n",
       "    .dataframe tbody tr th {\n",
       "        vertical-align: top;\n",
       "    }\n",
       "\n",
       "    .dataframe thead th {\n",
       "        text-align: right;\n",
       "    }\n",
       "</style>\n",
       "<table border=\"1\" class=\"dataframe\">\n",
       "  <thead>\n",
       "    <tr style=\"text-align: right;\">\n",
       "      <th></th>\n",
       "      <th>Ship_name</th>\n",
       "      <th>Cruise_line</th>\n",
       "      <th>Age</th>\n",
       "      <th>Tonnage</th>\n",
       "      <th>passengers</th>\n",
       "      <th>length</th>\n",
       "      <th>cabins</th>\n",
       "      <th>passenger_density</th>\n",
       "      <th>crew</th>\n",
       "    </tr>\n",
       "  </thead>\n",
       "  <tbody>\n",
       "    <tr>\n",
       "      <th>0</th>\n",
       "      <td>Journey</td>\n",
       "      <td>Azamara</td>\n",
       "      <td>6</td>\n",
       "      <td>30.277</td>\n",
       "      <td>6.94</td>\n",
       "      <td>5.94</td>\n",
       "      <td>3.55</td>\n",
       "      <td>42.64</td>\n",
       "      <td>3.55</td>\n",
       "    </tr>\n",
       "    <tr>\n",
       "      <th>1</th>\n",
       "      <td>Quest</td>\n",
       "      <td>Azamara</td>\n",
       "      <td>6</td>\n",
       "      <td>30.277</td>\n",
       "      <td>6.94</td>\n",
       "      <td>5.94</td>\n",
       "      <td>3.55</td>\n",
       "      <td>42.64</td>\n",
       "      <td>3.55</td>\n",
       "    </tr>\n",
       "    <tr>\n",
       "      <th>2</th>\n",
       "      <td>Celebration</td>\n",
       "      <td>Carnival</td>\n",
       "      <td>26</td>\n",
       "      <td>47.262</td>\n",
       "      <td>14.86</td>\n",
       "      <td>7.22</td>\n",
       "      <td>7.43</td>\n",
       "      <td>31.80</td>\n",
       "      <td>6.70</td>\n",
       "    </tr>\n",
       "    <tr>\n",
       "      <th>3</th>\n",
       "      <td>Conquest</td>\n",
       "      <td>Carnival</td>\n",
       "      <td>11</td>\n",
       "      <td>110.000</td>\n",
       "      <td>29.74</td>\n",
       "      <td>9.53</td>\n",
       "      <td>14.88</td>\n",
       "      <td>36.99</td>\n",
       "      <td>19.10</td>\n",
       "    </tr>\n",
       "    <tr>\n",
       "      <th>4</th>\n",
       "      <td>Destiny</td>\n",
       "      <td>Carnival</td>\n",
       "      <td>17</td>\n",
       "      <td>101.353</td>\n",
       "      <td>26.42</td>\n",
       "      <td>8.92</td>\n",
       "      <td>13.21</td>\n",
       "      <td>38.36</td>\n",
       "      <td>10.00</td>\n",
       "    </tr>\n",
       "  </tbody>\n",
       "</table>\n",
       "</div>"
      ],
      "text/plain": [
       "     Ship_name Cruise_line  Age  Tonnage  passengers  length  cabins  \\\n",
       "0      Journey     Azamara    6   30.277        6.94    5.94    3.55   \n",
       "1        Quest     Azamara    6   30.277        6.94    5.94    3.55   \n",
       "2  Celebration    Carnival   26   47.262       14.86    7.22    7.43   \n",
       "3     Conquest    Carnival   11  110.000       29.74    9.53   14.88   \n",
       "4      Destiny    Carnival   17  101.353       26.42    8.92   13.21   \n",
       "\n",
       "   passenger_density   crew  \n",
       "0              42.64   3.55  \n",
       "1              42.64   3.55  \n",
       "2              31.80   6.70  \n",
       "3              36.99  19.10  \n",
       "4              38.36  10.00  "
      ]
     },
     "execution_count": 3,
     "metadata": {},
     "output_type": "execute_result"
    }
   ],
   "source": [
    "df = pd.read_csv('Cruceros.csv')\n",
    "df.head()"
   ]
  },
  {
   "cell_type": "code",
   "execution_count": 4,
   "metadata": {},
   "outputs": [
    {
     "data": {
      "text/plain": [
       "Ship_name             object\n",
       "Cruise_line           object\n",
       "Age                    int64\n",
       "Tonnage              float64\n",
       "passengers           float64\n",
       "length               float64\n",
       "cabins               float64\n",
       "passenger_density    float64\n",
       "crew                 float64\n",
       "dtype: object"
      ]
     },
     "execution_count": 4,
     "metadata": {},
     "output_type": "execute_result"
    }
   ],
   "source": [
    "df.dtypes"
   ]
  },
  {
   "cell_type": "markdown",
   "metadata": {},
   "source": [
    "Como podemos observar la data de la variable crew es \"normal\". "
   ]
  },
  {
   "cell_type": "code",
   "execution_count": 7,
   "metadata": {},
   "outputs": [
    {
     "data": {
      "text/html": [
       "<div>\n",
       "<style scoped>\n",
       "    .dataframe tbody tr th:only-of-type {\n",
       "        vertical-align: middle;\n",
       "    }\n",
       "\n",
       "    .dataframe tbody tr th {\n",
       "        vertical-align: top;\n",
       "    }\n",
       "\n",
       "    .dataframe thead th {\n",
       "        text-align: right;\n",
       "    }\n",
       "</style>\n",
       "<table border=\"1\" class=\"dataframe\">\n",
       "  <thead>\n",
       "    <tr style=\"text-align: right;\">\n",
       "      <th></th>\n",
       "      <th>Age</th>\n",
       "      <th>Tonnage</th>\n",
       "      <th>passengers</th>\n",
       "      <th>length</th>\n",
       "      <th>cabins</th>\n",
       "      <th>passenger_density</th>\n",
       "      <th>crew</th>\n",
       "    </tr>\n",
       "  </thead>\n",
       "  <tbody>\n",
       "    <tr>\n",
       "      <th>count</th>\n",
       "      <td>158.000000</td>\n",
       "      <td>158.000000</td>\n",
       "      <td>158.000000</td>\n",
       "      <td>158.000000</td>\n",
       "      <td>158.000000</td>\n",
       "      <td>158.000000</td>\n",
       "      <td>158.000000</td>\n",
       "    </tr>\n",
       "    <tr>\n",
       "      <th>mean</th>\n",
       "      <td>15.689873</td>\n",
       "      <td>71.284671</td>\n",
       "      <td>18.457405</td>\n",
       "      <td>8.130633</td>\n",
       "      <td>8.830000</td>\n",
       "      <td>39.900949</td>\n",
       "      <td>7.794177</td>\n",
       "    </tr>\n",
       "    <tr>\n",
       "      <th>std</th>\n",
       "      <td>7.615691</td>\n",
       "      <td>37.229540</td>\n",
       "      <td>9.677095</td>\n",
       "      <td>1.793474</td>\n",
       "      <td>4.471417</td>\n",
       "      <td>8.639217</td>\n",
       "      <td>3.503487</td>\n",
       "    </tr>\n",
       "    <tr>\n",
       "      <th>min</th>\n",
       "      <td>4.000000</td>\n",
       "      <td>2.329000</td>\n",
       "      <td>0.660000</td>\n",
       "      <td>2.790000</td>\n",
       "      <td>0.330000</td>\n",
       "      <td>17.700000</td>\n",
       "      <td>0.590000</td>\n",
       "    </tr>\n",
       "    <tr>\n",
       "      <th>25%</th>\n",
       "      <td>10.000000</td>\n",
       "      <td>46.013000</td>\n",
       "      <td>12.535000</td>\n",
       "      <td>7.100000</td>\n",
       "      <td>6.132500</td>\n",
       "      <td>34.570000</td>\n",
       "      <td>5.480000</td>\n",
       "    </tr>\n",
       "    <tr>\n",
       "      <th>50%</th>\n",
       "      <td>14.000000</td>\n",
       "      <td>71.899000</td>\n",
       "      <td>19.500000</td>\n",
       "      <td>8.555000</td>\n",
       "      <td>9.570000</td>\n",
       "      <td>39.085000</td>\n",
       "      <td>8.150000</td>\n",
       "    </tr>\n",
       "    <tr>\n",
       "      <th>75%</th>\n",
       "      <td>20.000000</td>\n",
       "      <td>90.772500</td>\n",
       "      <td>24.845000</td>\n",
       "      <td>9.510000</td>\n",
       "      <td>10.885000</td>\n",
       "      <td>44.185000</td>\n",
       "      <td>9.990000</td>\n",
       "    </tr>\n",
       "    <tr>\n",
       "      <th>max</th>\n",
       "      <td>48.000000</td>\n",
       "      <td>220.000000</td>\n",
       "      <td>54.000000</td>\n",
       "      <td>11.820000</td>\n",
       "      <td>27.000000</td>\n",
       "      <td>71.430000</td>\n",
       "      <td>21.000000</td>\n",
       "    </tr>\n",
       "  </tbody>\n",
       "</table>\n",
       "</div>"
      ],
      "text/plain": [
       "              Age     Tonnage  passengers      length      cabins  \\\n",
       "count  158.000000  158.000000  158.000000  158.000000  158.000000   \n",
       "mean    15.689873   71.284671   18.457405    8.130633    8.830000   \n",
       "std      7.615691   37.229540    9.677095    1.793474    4.471417   \n",
       "min      4.000000    2.329000    0.660000    2.790000    0.330000   \n",
       "25%     10.000000   46.013000   12.535000    7.100000    6.132500   \n",
       "50%     14.000000   71.899000   19.500000    8.555000    9.570000   \n",
       "75%     20.000000   90.772500   24.845000    9.510000   10.885000   \n",
       "max     48.000000  220.000000   54.000000   11.820000   27.000000   \n",
       "\n",
       "       passenger_density        crew  \n",
       "count         158.000000  158.000000  \n",
       "mean           39.900949    7.794177  \n",
       "std             8.639217    3.503487  \n",
       "min            17.700000    0.590000  \n",
       "25%            34.570000    5.480000  \n",
       "50%            39.085000    8.150000  \n",
       "75%            44.185000    9.990000  \n",
       "max            71.430000   21.000000  "
      ]
     },
     "execution_count": 7,
     "metadata": {},
     "output_type": "execute_result"
    }
   ],
   "source": [
    "df.describe()"
   ]
  },
  {
   "cell_type": "code",
   "execution_count": 11,
   "metadata": {},
   "outputs": [],
   "source": [
    "cont = ['Age', 'Tonnage', 'passengers', 'length', 'passenger_density', 'crew']"
   ]
  },
  {
   "cell_type": "code",
   "execution_count": 12,
   "metadata": {},
   "outputs": [
    {
     "data": {
      "application/vnd.plotly.v1+json": {
       "config": {
        "plotlyServerURL": "https://plot.ly"
       },
       "data": [
        {
         "name": "Age",
         "type": "histogram",
         "x": [
          6,
          6,
          26,
          11,
          17,
          22,
          15,
          23,
          19,
          6,
          10,
          28,
          18,
          17,
          11,
          8,
          9,
          15,
          12,
          20,
          12,
          14,
          9,
          13,
          18,
          11,
          17,
          12,
          16,
          13,
          5,
          12,
          12,
          21,
          21,
          13,
          22,
          27,
          10,
          9,
          23,
          10,
          20,
          6,
          17,
          10,
          18,
          44,
          10,
          6,
          15,
          14,
          13,
          5,
          20,
          29,
          10,
          25,
          16,
          19,
          20,
          17,
          14,
          27,
          13,
          11,
          12,
          5,
          10,
          31,
          7,
          9,
          36,
          11,
          25,
          11,
          21,
          6,
          8,
          21,
          14,
          9,
          25,
          15,
          40,
          12,
          20,
          15,
          13,
          15,
          48,
          9,
          29,
          13,
          10,
          18,
          5,
          9,
          11,
          7,
          16,
          9,
          6,
          12,
          15,
          10,
          14,
          22,
          29,
          9,
          8,
          11,
          18,
          14,
          27,
          12,
          14,
          16,
          10,
          12,
          11,
          23,
          16,
          13,
          7,
          17,
          5,
          9,
          18,
          6,
          21,
          10,
          22,
          11,
          4,
          12,
          16,
          10,
          25,
          17,
          15,
          14,
          21,
          27,
          24,
          19,
          13,
          12,
          19,
          22,
          21,
          12,
          24,
          22,
          14,
          25,
          27,
          23
         ],
         "xaxis": "x",
         "yaxis": "y"
        },
        {
         "name": "Tonnage",
         "type": "histogram",
         "x": [
          30.277,
          30.277,
          47.262,
          110,
          101.353,
          70.367,
          70.367,
          70.367,
          70.367,
          110.239,
          110,
          46.052,
          70.367,
          70.367,
          86,
          110,
          88.5,
          70.367,
          88.5,
          70.367,
          88.5,
          101.509,
          110,
          101.509,
          70.60600000000001,
          91,
          77.71300000000001,
          91,
          77.71300000000001,
          91,
          122,
          91,
          2.329,
          47.225,
          28.43,
          85.619,
          52.926,
          53.872,
          105,
          105,
          25,
          86,
          53.049,
          112,
          75.166,
          68,
          51.004,
          70.327,
          151.4,
          90,
          83.338,
          83,
          61,
          86,
          55.451,
          33.92,
          81.76899999999999,
          38,
          59.652,
          55.451,
          55.451,
          55.451,
          63,
          53.872,
          63,
          85,
          58.6,
          133.5,
          58.825,
          35.143,
          89.6,
          59.058,
          16.852,
          58.6,
          34.25,
          90,
          50.76,
          93,
          91,
          38,
          77.104,
          81,
          42,
          75.33800000000001,
          28,
          77.104,
          50.76,
          30.277,
          30.277,
          30.277,
          22.08,
          85,
          45,
          76,
          77,
          69.153,
          115,
          116,
          91.627,
          116,
          77.499,
          113,
          113,
          108.865,
          108.806,
          91.627,
          30.277,
          69.845,
          44.348,
          113,
          77.499,
          108.977,
          77.499,
          30.277,
          12.5,
          50,
          33,
          19.2,
          46,
          138,
          90.09,
          48.563,
          74.137,
          138,
          158,
          74.137,
          160,
          90.09,
          70,
          158,
          73.941,
          138,
          73.941,
          138,
          220,
          90.09,
          78.491,
          90.09,
          73.192,
          70,
          78.491,
          138,
          10,
          10,
          10,
          16.8,
          25,
          25,
          16.8,
          3.341,
          19.093,
          42,
          40.053,
          3.341,
          76.8,
          5.35,
          5.35,
          14.745
         ],
         "xaxis": "x2",
         "yaxis": "y2"
        },
        {
         "name": "passengers",
         "type": "histogram",
         "x": [
          6.94,
          6.94,
          14.86,
          29.74,
          26.42,
          20.52,
          20.52,
          20.56,
          20.52,
          37,
          29.74,
          14.52,
          20.52,
          20.52,
          21.24,
          29.74,
          21.24,
          20.52,
          21.24,
          20.52,
          21.24,
          27.58,
          29.74,
          27.58,
          17.7,
          20.32,
          18.9,
          20.32,
          18.82,
          20.32,
          28.5,
          20.32,
          0.94,
          13.66,
          8.08,
          21.14,
          13.02,
          14.94,
          27.2,
          27.2,
          7.76,
          21.14,
          13.44,
          38,
          19.28,
          10.8,
          9.4,
          17.91,
          26.2,
          20,
          17.5,
          17.5,
          13.8,
          21.04,
          12.64,
          12.14,
          18.48,
          7.49,
          13.2,
          12.66,
          12.66,
          12.66,
          14.4,
          14.94,
          14.4,
          18.48,
          15.66,
          39.59,
          15.6,
          12.5,
          25.5,
          17,
          9.52,
          15.66,
          10.52,
          22.4,
          17.48,
          23.94,
          22.44,
          10.56,
          20.02,
          21.44,
          15.04,
          19.56,
          11.5,
          20.02,
          17.48,
          6.84,
          6.84,
          6.84,
          8.26,
          19.68,
          11.78,
          18.74,
          20.16,
          18.82,
          35.74,
          26,
          19.74,
          31,
          19.5,
          26.74,
          37.82,
          27.58,
          26,
          19.74,
          6.86,
          15.9,
          12,
          26.74,
          19.5,
          26.02,
          19.5,
          6.88,
          3.94,
          7,
          4.9,
          3.2,
          7,
          31.14,
          25.01,
          20.2,
          19.5,
          31.14,
          43.7,
          19.5,
          36.34,
          25.01,
          18,
          43.7,
          27.44,
          31.14,
          27.44,
          31.14,
          54,
          25.01,
          24.35,
          25.01,
          28.52,
          20.76,
          24.35,
          31.14,
          2.08,
          2.08,
          2.08,
          2.96,
          3.82,
          3.88,
          2.96,
          0.66,
          8,
          14.8,
          12.87,
          0.66,
          19.6,
          1.58,
          1.67,
          3.08
         ],
         "xaxis": "x3",
         "yaxis": "y3"
        },
        {
         "name": "length",
         "type": "histogram",
         "x": [
          5.94,
          5.94,
          7.22,
          9.53,
          8.92,
          8.55,
          8.55,
          8.55,
          8.55,
          9.51,
          9.51,
          7.27,
          8.55,
          8.55,
          9.63,
          9.51,
          9.63,
          8.55,
          9.63,
          8.55,
          9.63,
          8.93,
          9.52,
          8.93,
          8.15,
          9.65,
          8.66,
          9.65,
          8.66,
          9.65,
          10.33,
          9.65,
          2.96,
          6.82,
          6.16,
          9.57,
          7.18,
          7.98,
          8.9,
          8.9,
          6.22,
          9.6,
          7.22,
          9.51,
          8.28,
          7.9,
          7.81,
          9.63,
          11.32,
          9.64,
          9.64,
          9.64,
          7.8,
          9.36,
          7.19,
          7.04,
          9.59,
          6.74,
          7.77,
          7.19,
          7.19,
          7.19,
          7.77,
          7.98,
          7.77,
          9.51,
          8.24,
          10.93,
          8.23,
          6.69,
          9.61,
          7.63,
          5.41,
          8.23,
          6.15,
          9.65,
          7.54,
          9.65,
          9.65,
          5.67,
          8.53,
          9.21,
          7.08,
          8.79,
          6.74,
          8.53,
          7.54,
          5.94,
          5.94,
          5.94,
          5.78,
          9.35,
          7.54,
          8.86,
          8.56,
          8.53,
          9,
          9.51,
          9.64,
          9.51,
          8.56,
          9.51,
          9.51,
          9.51,
          9.51,
          9.64,
          5.93,
          8.03,
          7.54,
          9.51,
          8.56,
          9.51,
          8.56,
          5.93,
          4.36,
          7.09,
          5.6,
          5.13,
          6.7,
          10.2,
          9.62,
          6.92,
          9.16,
          10.2,
          11.12,
          9.16,
          11.12,
          9.62,
          8.67,
          11.25,
          8.8,
          10.2,
          8.8,
          10.2,
          11.82,
          9.62,
          9.15,
          9.62,
          8.8,
          8.67,
          9.15,
          10.2,
          4.4,
          4.4,
          4.4,
          5.14,
          5.97,
          5.97,
          5.14,
          2.8,
          5.37,
          7.13,
          5.79,
          2.79,
          8.79,
          4.4,
          4.4,
          6.17
         ],
         "xaxis": "x4",
         "yaxis": "y4"
        },
        {
         "name": "passenger_density",
         "type": "histogram",
         "x": [
          42.64,
          42.64,
          31.8,
          36.99,
          38.36,
          34.29,
          34.29,
          34.23,
          34.29,
          29.79,
          36.99,
          31.72,
          34.29,
          34.29,
          40.49,
          36.99,
          41.67,
          34.29,
          41.67,
          34.29,
          41.67,
          36.81,
          36.99,
          36.81,
          39.89,
          44.78,
          41.12,
          44.78,
          41.29,
          44.78,
          34.57,
          44.78,
          24.78,
          34.57,
          35.19,
          40.5,
          40.65,
          36.06,
          38.6,
          38.6,
          32.22,
          40.68,
          39.47,
          29.47,
          38.99,
          62.96,
          54.26,
          39.27,
          57.79,
          45,
          47.62,
          47.43,
          44.2,
          40.87,
          43.87,
          27.94,
          44.25,
          50.73,
          45.19,
          43.8,
          43.8,
          43.8,
          43.75,
          36.06,
          43.75,
          46,
          37.42,
          33.72,
          37.71,
          28.11,
          35.14,
          34.74,
          17.7,
          37.42,
          32.56,
          40.18,
          29.04,
          38.85,
          40.55,
          35.98,
          38.51,
          37.78,
          27.93,
          38.52,
          24.35,
          38.51,
          29.04,
          44.26,
          44.26,
          44.26,
          26.73,
          43.19,
          38.2,
          40.55,
          38.19,
          36.74,
          32.18,
          44.62,
          46.42,
          37.42,
          39.74,
          42.26,
          29.88,
          39.47,
          41.85,
          46.42,
          44.14,
          43.93,
          36.96,
          42.26,
          39.74,
          41.88,
          39.74,
          44.01,
          31.73,
          71.43,
          67.35,
          60,
          65.71,
          44.32,
          36.02,
          24.04,
          38.02,
          44.32,
          36.16,
          38.02,
          44.03,
          36.02,
          38.89,
          36.16,
          26.95,
          44.32,
          30.94,
          44.32,
          40.74,
          36.02,
          32.23,
          36.02,
          25.66,
          33.72,
          32.23,
          44.32,
          48.08,
          48.08,
          48.08,
          56.76,
          65.45,
          64.43,
          56.76,
          50.62,
          23.87,
          28.38,
          31.12,
          50.62,
          39.18,
          33.86,
          32.04,
          47.87
         ],
         "xaxis": "x5",
         "yaxis": "y5"
        },
        {
         "name": "crew",
         "type": "histogram",
         "x": [
          3.55,
          3.55,
          6.7,
          19.1,
          10,
          9.2,
          9.2,
          9.2,
          9.2,
          11.5,
          11.6,
          6.6,
          9.2,
          9.2,
          9.3,
          11.6,
          10.3,
          9.2,
          9.3,
          9.2,
          10.29,
          10,
          11.6,
          11.5,
          8.58,
          9.99,
          9.09,
          9.99,
          9.09,
          9.99,
          6.7,
          9.99,
          0.6,
          6.7,
          4,
          9.2,
          6.17,
          6.36,
          10.68,
          10.68,
          3.85,
          9.2,
          6,
          10.9,
          7.66,
          6.36,
          5.45,
          9.21,
          12.53,
          9,
          9.45,
          9.45,
          6,
          8,
          5.57,
          5.3,
          8.42,
          4.6,
          6.44,
          5.88,
          5.88,
          5.88,
          5.61,
          6.12,
          5.31,
          8,
          7,
          13.13,
          7,
          5.35,
          9.87,
          7.4,
          2.97,
          7.6,
          4.7,
          11,
          6.14,
          11.09,
          11,
          4.38,
          8,
          10,
          6.3,
          13,
          3.8,
          9.59,
          6.14,
          4,
          4,
          4,
          3.5,
          8.69,
          5.2,
          8.5,
          9,
          7.94,
          12.2,
          11,
          9,
          12,
          9,
          12.38,
          12,
          11,
          11.1,
          9,
          3.73,
          6.96,
          5.2,
          12.38,
          9,
          12,
          9,
          3.73,
          1.46,
          4.45,
          3.24,
          2.11,
          4.47,
          11.85,
          8.48,
          6.71,
          7.6,
          11.76,
          13.6,
          7.6,
          13.6,
          8.69,
          7.2,
          13.6,
          8.22,
          11.85,
          8.22,
          11.85,
          21,
          8.68,
          7.65,
          8.58,
          8.08,
          7.2,
          6.6,
          11.76,
          1.6,
          1.6,
          1.6,
          2.1,
          2.95,
          2.87,
          1.97,
          0.59,
          4.7,
          6.8,
          7.5,
          0.59,
          12,
          0.88,
          0.88,
          1.8
         ],
         "xaxis": "x6",
         "yaxis": "y6"
        }
       ],
       "layout": {
        "template": {
         "data": {
          "bar": [
           {
            "error_x": {
             "color": "#2a3f5f"
            },
            "error_y": {
             "color": "#2a3f5f"
            },
            "marker": {
             "line": {
              "color": "#E5ECF6",
              "width": 0.5
             },
             "pattern": {
              "fillmode": "overlay",
              "size": 10,
              "solidity": 0.2
             }
            },
            "type": "bar"
           }
          ],
          "barpolar": [
           {
            "marker": {
             "line": {
              "color": "#E5ECF6",
              "width": 0.5
             },
             "pattern": {
              "fillmode": "overlay",
              "size": 10,
              "solidity": 0.2
             }
            },
            "type": "barpolar"
           }
          ],
          "carpet": [
           {
            "aaxis": {
             "endlinecolor": "#2a3f5f",
             "gridcolor": "white",
             "linecolor": "white",
             "minorgridcolor": "white",
             "startlinecolor": "#2a3f5f"
            },
            "baxis": {
             "endlinecolor": "#2a3f5f",
             "gridcolor": "white",
             "linecolor": "white",
             "minorgridcolor": "white",
             "startlinecolor": "#2a3f5f"
            },
            "type": "carpet"
           }
          ],
          "choropleth": [
           {
            "colorbar": {
             "outlinewidth": 0,
             "ticks": ""
            },
            "type": "choropleth"
           }
          ],
          "contour": [
           {
            "colorbar": {
             "outlinewidth": 0,
             "ticks": ""
            },
            "colorscale": [
             [
              0,
              "#0d0887"
             ],
             [
              0.1111111111111111,
              "#46039f"
             ],
             [
              0.2222222222222222,
              "#7201a8"
             ],
             [
              0.3333333333333333,
              "#9c179e"
             ],
             [
              0.4444444444444444,
              "#bd3786"
             ],
             [
              0.5555555555555556,
              "#d8576b"
             ],
             [
              0.6666666666666666,
              "#ed7953"
             ],
             [
              0.7777777777777778,
              "#fb9f3a"
             ],
             [
              0.8888888888888888,
              "#fdca26"
             ],
             [
              1,
              "#f0f921"
             ]
            ],
            "type": "contour"
           }
          ],
          "contourcarpet": [
           {
            "colorbar": {
             "outlinewidth": 0,
             "ticks": ""
            },
            "type": "contourcarpet"
           }
          ],
          "heatmap": [
           {
            "colorbar": {
             "outlinewidth": 0,
             "ticks": ""
            },
            "colorscale": [
             [
              0,
              "#0d0887"
             ],
             [
              0.1111111111111111,
              "#46039f"
             ],
             [
              0.2222222222222222,
              "#7201a8"
             ],
             [
              0.3333333333333333,
              "#9c179e"
             ],
             [
              0.4444444444444444,
              "#bd3786"
             ],
             [
              0.5555555555555556,
              "#d8576b"
             ],
             [
              0.6666666666666666,
              "#ed7953"
             ],
             [
              0.7777777777777778,
              "#fb9f3a"
             ],
             [
              0.8888888888888888,
              "#fdca26"
             ],
             [
              1,
              "#f0f921"
             ]
            ],
            "type": "heatmap"
           }
          ],
          "heatmapgl": [
           {
            "colorbar": {
             "outlinewidth": 0,
             "ticks": ""
            },
            "colorscale": [
             [
              0,
              "#0d0887"
             ],
             [
              0.1111111111111111,
              "#46039f"
             ],
             [
              0.2222222222222222,
              "#7201a8"
             ],
             [
              0.3333333333333333,
              "#9c179e"
             ],
             [
              0.4444444444444444,
              "#bd3786"
             ],
             [
              0.5555555555555556,
              "#d8576b"
             ],
             [
              0.6666666666666666,
              "#ed7953"
             ],
             [
              0.7777777777777778,
              "#fb9f3a"
             ],
             [
              0.8888888888888888,
              "#fdca26"
             ],
             [
              1,
              "#f0f921"
             ]
            ],
            "type": "heatmapgl"
           }
          ],
          "histogram": [
           {
            "marker": {
             "pattern": {
              "fillmode": "overlay",
              "size": 10,
              "solidity": 0.2
             }
            },
            "type": "histogram"
           }
          ],
          "histogram2d": [
           {
            "colorbar": {
             "outlinewidth": 0,
             "ticks": ""
            },
            "colorscale": [
             [
              0,
              "#0d0887"
             ],
             [
              0.1111111111111111,
              "#46039f"
             ],
             [
              0.2222222222222222,
              "#7201a8"
             ],
             [
              0.3333333333333333,
              "#9c179e"
             ],
             [
              0.4444444444444444,
              "#bd3786"
             ],
             [
              0.5555555555555556,
              "#d8576b"
             ],
             [
              0.6666666666666666,
              "#ed7953"
             ],
             [
              0.7777777777777778,
              "#fb9f3a"
             ],
             [
              0.8888888888888888,
              "#fdca26"
             ],
             [
              1,
              "#f0f921"
             ]
            ],
            "type": "histogram2d"
           }
          ],
          "histogram2dcontour": [
           {
            "colorbar": {
             "outlinewidth": 0,
             "ticks": ""
            },
            "colorscale": [
             [
              0,
              "#0d0887"
             ],
             [
              0.1111111111111111,
              "#46039f"
             ],
             [
              0.2222222222222222,
              "#7201a8"
             ],
             [
              0.3333333333333333,
              "#9c179e"
             ],
             [
              0.4444444444444444,
              "#bd3786"
             ],
             [
              0.5555555555555556,
              "#d8576b"
             ],
             [
              0.6666666666666666,
              "#ed7953"
             ],
             [
              0.7777777777777778,
              "#fb9f3a"
             ],
             [
              0.8888888888888888,
              "#fdca26"
             ],
             [
              1,
              "#f0f921"
             ]
            ],
            "type": "histogram2dcontour"
           }
          ],
          "mesh3d": [
           {
            "colorbar": {
             "outlinewidth": 0,
             "ticks": ""
            },
            "type": "mesh3d"
           }
          ],
          "parcoords": [
           {
            "line": {
             "colorbar": {
              "outlinewidth": 0,
              "ticks": ""
             }
            },
            "type": "parcoords"
           }
          ],
          "pie": [
           {
            "automargin": true,
            "type": "pie"
           }
          ],
          "scatter": [
           {
            "marker": {
             "colorbar": {
              "outlinewidth": 0,
              "ticks": ""
             }
            },
            "type": "scatter"
           }
          ],
          "scatter3d": [
           {
            "line": {
             "colorbar": {
              "outlinewidth": 0,
              "ticks": ""
             }
            },
            "marker": {
             "colorbar": {
              "outlinewidth": 0,
              "ticks": ""
             }
            },
            "type": "scatter3d"
           }
          ],
          "scattercarpet": [
           {
            "marker": {
             "colorbar": {
              "outlinewidth": 0,
              "ticks": ""
             }
            },
            "type": "scattercarpet"
           }
          ],
          "scattergeo": [
           {
            "marker": {
             "colorbar": {
              "outlinewidth": 0,
              "ticks": ""
             }
            },
            "type": "scattergeo"
           }
          ],
          "scattergl": [
           {
            "marker": {
             "colorbar": {
              "outlinewidth": 0,
              "ticks": ""
             }
            },
            "type": "scattergl"
           }
          ],
          "scattermapbox": [
           {
            "marker": {
             "colorbar": {
              "outlinewidth": 0,
              "ticks": ""
             }
            },
            "type": "scattermapbox"
           }
          ],
          "scatterpolar": [
           {
            "marker": {
             "colorbar": {
              "outlinewidth": 0,
              "ticks": ""
             }
            },
            "type": "scatterpolar"
           }
          ],
          "scatterpolargl": [
           {
            "marker": {
             "colorbar": {
              "outlinewidth": 0,
              "ticks": ""
             }
            },
            "type": "scatterpolargl"
           }
          ],
          "scatterternary": [
           {
            "marker": {
             "colorbar": {
              "outlinewidth": 0,
              "ticks": ""
             }
            },
            "type": "scatterternary"
           }
          ],
          "surface": [
           {
            "colorbar": {
             "outlinewidth": 0,
             "ticks": ""
            },
            "colorscale": [
             [
              0,
              "#0d0887"
             ],
             [
              0.1111111111111111,
              "#46039f"
             ],
             [
              0.2222222222222222,
              "#7201a8"
             ],
             [
              0.3333333333333333,
              "#9c179e"
             ],
             [
              0.4444444444444444,
              "#bd3786"
             ],
             [
              0.5555555555555556,
              "#d8576b"
             ],
             [
              0.6666666666666666,
              "#ed7953"
             ],
             [
              0.7777777777777778,
              "#fb9f3a"
             ],
             [
              0.8888888888888888,
              "#fdca26"
             ],
             [
              1,
              "#f0f921"
             ]
            ],
            "type": "surface"
           }
          ],
          "table": [
           {
            "cells": {
             "fill": {
              "color": "#EBF0F8"
             },
             "line": {
              "color": "white"
             }
            },
            "header": {
             "fill": {
              "color": "#C8D4E3"
             },
             "line": {
              "color": "white"
             }
            },
            "type": "table"
           }
          ]
         },
         "layout": {
          "annotationdefaults": {
           "arrowcolor": "#2a3f5f",
           "arrowhead": 0,
           "arrowwidth": 1
          },
          "autotypenumbers": "strict",
          "coloraxis": {
           "colorbar": {
            "outlinewidth": 0,
            "ticks": ""
           }
          },
          "colorscale": {
           "diverging": [
            [
             0,
             "#8e0152"
            ],
            [
             0.1,
             "#c51b7d"
            ],
            [
             0.2,
             "#de77ae"
            ],
            [
             0.3,
             "#f1b6da"
            ],
            [
             0.4,
             "#fde0ef"
            ],
            [
             0.5,
             "#f7f7f7"
            ],
            [
             0.6,
             "#e6f5d0"
            ],
            [
             0.7,
             "#b8e186"
            ],
            [
             0.8,
             "#7fbc41"
            ],
            [
             0.9,
             "#4d9221"
            ],
            [
             1,
             "#276419"
            ]
           ],
           "sequential": [
            [
             0,
             "#0d0887"
            ],
            [
             0.1111111111111111,
             "#46039f"
            ],
            [
             0.2222222222222222,
             "#7201a8"
            ],
            [
             0.3333333333333333,
             "#9c179e"
            ],
            [
             0.4444444444444444,
             "#bd3786"
            ],
            [
             0.5555555555555556,
             "#d8576b"
            ],
            [
             0.6666666666666666,
             "#ed7953"
            ],
            [
             0.7777777777777778,
             "#fb9f3a"
            ],
            [
             0.8888888888888888,
             "#fdca26"
            ],
            [
             1,
             "#f0f921"
            ]
           ],
           "sequentialminus": [
            [
             0,
             "#0d0887"
            ],
            [
             0.1111111111111111,
             "#46039f"
            ],
            [
             0.2222222222222222,
             "#7201a8"
            ],
            [
             0.3333333333333333,
             "#9c179e"
            ],
            [
             0.4444444444444444,
             "#bd3786"
            ],
            [
             0.5555555555555556,
             "#d8576b"
            ],
            [
             0.6666666666666666,
             "#ed7953"
            ],
            [
             0.7777777777777778,
             "#fb9f3a"
            ],
            [
             0.8888888888888888,
             "#fdca26"
            ],
            [
             1,
             "#f0f921"
            ]
           ]
          },
          "colorway": [
           "#636efa",
           "#EF553B",
           "#00cc96",
           "#ab63fa",
           "#FFA15A",
           "#19d3f3",
           "#FF6692",
           "#B6E880",
           "#FF97FF",
           "#FECB52"
          ],
          "font": {
           "color": "#2a3f5f"
          },
          "geo": {
           "bgcolor": "white",
           "lakecolor": "white",
           "landcolor": "#E5ECF6",
           "showlakes": true,
           "showland": true,
           "subunitcolor": "white"
          },
          "hoverlabel": {
           "align": "left"
          },
          "hovermode": "closest",
          "mapbox": {
           "style": "light"
          },
          "paper_bgcolor": "white",
          "plot_bgcolor": "#E5ECF6",
          "polar": {
           "angularaxis": {
            "gridcolor": "white",
            "linecolor": "white",
            "ticks": ""
           },
           "bgcolor": "#E5ECF6",
           "radialaxis": {
            "gridcolor": "white",
            "linecolor": "white",
            "ticks": ""
           }
          },
          "scene": {
           "xaxis": {
            "backgroundcolor": "#E5ECF6",
            "gridcolor": "white",
            "gridwidth": 2,
            "linecolor": "white",
            "showbackground": true,
            "ticks": "",
            "zerolinecolor": "white"
           },
           "yaxis": {
            "backgroundcolor": "#E5ECF6",
            "gridcolor": "white",
            "gridwidth": 2,
            "linecolor": "white",
            "showbackground": true,
            "ticks": "",
            "zerolinecolor": "white"
           },
           "zaxis": {
            "backgroundcolor": "#E5ECF6",
            "gridcolor": "white",
            "gridwidth": 2,
            "linecolor": "white",
            "showbackground": true,
            "ticks": "",
            "zerolinecolor": "white"
           }
          },
          "shapedefaults": {
           "line": {
            "color": "#2a3f5f"
           }
          },
          "ternary": {
           "aaxis": {
            "gridcolor": "white",
            "linecolor": "white",
            "ticks": ""
           },
           "baxis": {
            "gridcolor": "white",
            "linecolor": "white",
            "ticks": ""
           },
           "bgcolor": "#E5ECF6",
           "caxis": {
            "gridcolor": "white",
            "linecolor": "white",
            "ticks": ""
           }
          },
          "title": {
           "x": 0.05
          },
          "xaxis": {
           "automargin": true,
           "gridcolor": "white",
           "linecolor": "white",
           "ticks": "",
           "title": {
            "standoff": 15
           },
           "zerolinecolor": "white",
           "zerolinewidth": 2
          },
          "yaxis": {
           "automargin": true,
           "gridcolor": "white",
           "linecolor": "white",
           "ticks": "",
           "title": {
            "standoff": 15
           },
           "zerolinecolor": "white",
           "zerolinewidth": 2
          }
         }
        },
        "xaxis": {
         "anchor": "y",
         "domain": [
          0,
          0.1388888888888889
         ]
        },
        "xaxis2": {
         "anchor": "y2",
         "domain": [
          0.17222222222222222,
          0.3111111111111111
         ]
        },
        "xaxis3": {
         "anchor": "y3",
         "domain": [
          0.34444444444444444,
          0.48333333333333334
         ]
        },
        "xaxis4": {
         "anchor": "y4",
         "domain": [
          0.5166666666666667,
          0.6555555555555557
         ]
        },
        "xaxis5": {
         "anchor": "y5",
         "domain": [
          0.6888888888888889,
          0.8277777777777777
         ]
        },
        "xaxis6": {
         "anchor": "y6",
         "domain": [
          0.861111111111111,
          1
         ]
        },
        "yaxis": {
         "anchor": "x",
         "domain": [
          0,
          1
         ]
        },
        "yaxis2": {
         "anchor": "x2",
         "domain": [
          0,
          1
         ]
        },
        "yaxis3": {
         "anchor": "x3",
         "domain": [
          0,
          1
         ]
        },
        "yaxis4": {
         "anchor": "x4",
         "domain": [
          0,
          1
         ]
        },
        "yaxis5": {
         "anchor": "x5",
         "domain": [
          0,
          1
         ]
        },
        "yaxis6": {
         "anchor": "x6",
         "domain": [
          0,
          1
         ]
        }
       }
      }
     },
     "metadata": {},
     "output_type": "display_data"
    }
   ],
   "source": [
    "plotlyhistograms(df, cont)"
   ]
  },
  {
   "cell_type": "markdown",
   "metadata": {},
   "source": [
    "No hay skewness, entonces no normalizaremos las variables."
   ]
  },
  {
   "cell_type": "code",
   "execution_count": 13,
   "metadata": {},
   "outputs": [
    {
     "data": {
      "text/plain": [
       "<seaborn.axisgrid.PairGrid at 0x25bf9a2c5b0>"
      ]
     },
     "execution_count": 13,
     "metadata": {},
     "output_type": "execute_result"
    },
    {
     "data": {
      "image/png": "[encoded data removed]",
      "text/plain": [
       "<Figure size 1080x1080 with 42 Axes>"
      ]
     },
     "metadata": {
      "needs_background": "light"
     },
     "output_type": "display_data"
    }
   ],
   "source": [
    "sns.pairplot(data=df, vars= cont)"
   ]
  },
  {
   "cell_type": "code",
   "execution_count": 14,
   "metadata": {},
   "outputs": [
    {
     "data": {
      "text/plain": [
       "<AxesSubplot:>"
      ]
     },
     "execution_count": 14,
     "metadata": {},
     "output_type": "execute_result"
    },
    {
     "data": {
      "image/png": "[encoded data removed]",
      "text/plain": [
       "<Figure size 432x288 with 2 Axes>"
      ]
     },
     "metadata": {
      "needs_background": "light"
     },
     "output_type": "display_data"
    }
   ],
   "source": [
    "corr = df.corr()\n",
    "plt.figure()\n",
    "sns.heatmap(corr, annot=True)"
   ]
  },
  {
   "cell_type": "markdown",
   "metadata": {},
   "source": [
    "Como podemos observar en la grafica de correlación, las variables que se tomaran en cuenta son todas excepto \"passenger_density\" y \"Age\""
   ]
  },
  {
   "cell_type": "code",
   "execution_count": 16,
   "metadata": {},
   "outputs": [
    {
     "data": {
      "application/vnd.plotly.v1+json": {
       "config": {
        "plotlyServerURL": "https://plot.ly"
       },
       "data": [
        {
         "name": "Age",
         "type": "box",
         "xaxis": "x",
         "y": [
          6,
          6,
          26,
          11,
          17,
          22,
          15,
          23,
          19,
          6,
          10,
          28,
          18,
          17,
          11,
          8,
          9,
          15,
          12,
          20,
          12,
          14,
          9,
          13,
          18,
          11,
          17,
          12,
          16,
          13,
          5,
          12,
          12,
          21,
          21,
          13,
          22,
          27,
          10,
          9,
          23,
          10,
          20,
          6,
          17,
          10,
          18,
          44,
          10,
          6,
          15,
          14,
          13,
          5,
          20,
          29,
          10,
          25,
          16,
          19,
          20,
          17,
          14,
          27,
          13,
          11,
          12,
          5,
          10,
          31,
          7,
          9,
          36,
          11,
          25,
          11,
          21,
          6,
          8,
          21,
          14,
          9,
          25,
          15,
          40,
          12,
          20,
          15,
          13,
          15,
          48,
          9,
          29,
          13,
          10,
          18,
          5,
          9,
          11,
          7,
          16,
          9,
          6,
          12,
          15,
          10,
          14,
          22,
          29,
          9,
          8,
          11,
          18,
          14,
          27,
          12,
          14,
          16,
          10,
          12,
          11,
          23,
          16,
          13,
          7,
          17,
          5,
          9,
          18,
          6,
          21,
          10,
          22,
          11,
          4,
          12,
          16,
          10,
          25,
          17,
          15,
          14,
          21,
          27,
          24,
          19,
          13,
          12,
          19,
          22,
          21,
          12,
          24,
          22,
          14,
          25,
          27,
          23
         ],
         "yaxis": "y"
        },
        {
         "name": "Tonnage",
         "type": "box",
         "xaxis": "x2",
         "y": [
          30.277,
          30.277,
          47.262,
          110,
          101.353,
          70.367,
          70.367,
          70.367,
          70.367,
          110.239,
          110,
          46.052,
          70.367,
          70.367,
          86,
          110,
          88.5,
          70.367,
          88.5,
          70.367,
          88.5,
          101.509,
          110,
          101.509,
          70.60600000000001,
          91,
          77.71300000000001,
          91,
          77.71300000000001,
          91,
          122,
          91,
          2.329,
          47.225,
          28.43,
          85.619,
          52.926,
          53.872,
          105,
          105,
          25,
          86,
          53.049,
          112,
          75.166,
          68,
          51.004,
          70.327,
          151.4,
          90,
          83.338,
          83,
          61,
          86,
          55.451,
          33.92,
          81.76899999999999,
          38,
          59.652,
          55.451,
          55.451,
          55.451,
          63,
          53.872,
          63,
          85,
          58.6,
          133.5,
          58.825,
          35.143,
          89.6,
          59.058,
          16.852,
          58.6,
          34.25,
          90,
          50.76,
          93,
          91,
          38,
          77.104,
          81,
          42,
          75.33800000000001,
          28,
          77.104,
          50.76,
          30.277,
          30.277,
          30.277,
          22.08,
          85,
          45,
          76,
          77,
          69.153,
          115,
          116,
          91.627,
          116,
          77.499,
          113,
          113,
          108.865,
          108.806,
          91.627,
          30.277,
          69.845,
          44.348,
          113,
          77.499,
          108.977,
          77.499,
          30.277,
          12.5,
          50,
          33,
          19.2,
          46,
          138,
          90.09,
          48.563,
          74.137,
          138,
          158,
          74.137,
          160,
          90.09,
          70,
          158,
          73.941,
          138,
          73.941,
          138,
          220,
          90.09,
          78.491,
          90.09,
          73.192,
          70,
          78.491,
          138,
          10,
          10,
          10,
          16.8,
          25,
          25,
          16.8,
          3.341,
          19.093,
          42,
          40.053,
          3.341,
          76.8,
          5.35,
          5.35,
          14.745
         ],
         "yaxis": "y2"
        },
        {
         "name": "passengers",
         "type": "box",
         "xaxis": "x3",
         "y": [
          6.94,
          6.94,
          14.86,
          29.74,
          26.42,
          20.52,
          20.52,
          20.56,
          20.52,
          37,
          29.74,
          14.52,
          20.52,
          20.52,
          21.24,
          29.74,
          21.24,
          20.52,
          21.24,
          20.52,
          21.24,
          27.58,
          29.74,
          27.58,
          17.7,
          20.32,
          18.9,
          20.32,
          18.82,
          20.32,
          28.5,
          20.32,
          0.94,
          13.66,
          8.08,
          21.14,
          13.02,
          14.94,
          27.2,
          27.2,
          7.76,
          21.14,
          13.44,
          38,
          19.28,
          10.8,
          9.4,
          17.91,
          26.2,
          20,
          17.5,
          17.5,
          13.8,
          21.04,
          12.64,
          12.14,
          18.48,
          7.49,
          13.2,
          12.66,
          12.66,
          12.66,
          14.4,
          14.94,
          14.4,
          18.48,
          15.66,
          39.59,
          15.6,
          12.5,
          25.5,
          17,
          9.52,
          15.66,
          10.52,
          22.4,
          17.48,
          23.94,
          22.44,
          10.56,
          20.02,
          21.44,
          15.04,
          19.56,
          11.5,
          20.02,
          17.48,
          6.84,
          6.84,
          6.84,
          8.26,
          19.68,
          11.78,
          18.74,
          20.16,
          18.82,
          35.74,
          26,
          19.74,
          31,
          19.5,
          26.74,
          37.82,
          27.58,
          26,
          19.74,
          6.86,
          15.9,
          12,
          26.74,
          19.5,
          26.02,
          19.5,
          6.88,
          3.94,
          7,
          4.9,
          3.2,
          7,
          31.14,
          25.01,
          20.2,
          19.5,
          31.14,
          43.7,
          19.5,
          36.34,
          25.01,
          18,
          43.7,
          27.44,
          31.14,
          27.44,
          31.14,
          54,
          25.01,
          24.35,
          25.01,
          28.52,
          20.76,
          24.35,
          31.14,
          2.08,
          2.08,
          2.08,
          2.96,
          3.82,
          3.88,
          2.96,
          0.66,
          8,
          14.8,
          12.87,
          0.66,
          19.6,
          1.58,
          1.67,
          3.08
         ],
         "yaxis": "y3"
        },
        {
         "name": "length",
         "type": "box",
         "xaxis": "x4",
         "y": [
          5.94,
          5.94,
          7.22,
          9.53,
          8.92,
          8.55,
          8.55,
          8.55,
          8.55,
          9.51,
          9.51,
          7.27,
          8.55,
          8.55,
          9.63,
          9.51,
          9.63,
          8.55,
          9.63,
          8.55,
          9.63,
          8.93,
          9.52,
          8.93,
          8.15,
          9.65,
          8.66,
          9.65,
          8.66,
          9.65,
          10.33,
          9.65,
          2.96,
          6.82,
          6.16,
          9.57,
          7.18,
          7.98,
          8.9,
          8.9,
          6.22,
          9.6,
          7.22,
          9.51,
          8.28,
          7.9,
          7.81,
          9.63,
          11.32,
          9.64,
          9.64,
          9.64,
          7.8,
          9.36,
          7.19,
          7.04,
          9.59,
          6.74,
          7.77,
          7.19,
          7.19,
          7.19,
          7.77,
          7.98,
          7.77,
          9.51,
          8.24,
          10.93,
          8.23,
          6.69,
          9.61,
          7.63,
          5.41,
          8.23,
          6.15,
          9.65,
          7.54,
          9.65,
          9.65,
          5.67,
          8.53,
          9.21,
          7.08,
          8.79,
          6.74,
          8.53,
          7.54,
          5.94,
          5.94,
          5.94,
          5.78,
          9.35,
          7.54,
          8.86,
          8.56,
          8.53,
          9,
          9.51,
          9.64,
          9.51,
          8.56,
          9.51,
          9.51,
          9.51,
          9.51,
          9.64,
          5.93,
          8.03,
          7.54,
          9.51,
          8.56,
          9.51,
          8.56,
          5.93,
          4.36,
          7.09,
          5.6,
          5.13,
          6.7,
          10.2,
          9.62,
          6.92,
          9.16,
          10.2,
          11.12,
          9.16,
          11.12,
          9.62,
          8.67,
          11.25,
          8.8,
          10.2,
          8.8,
          10.2,
          11.82,
          9.62,
          9.15,
          9.62,
          8.8,
          8.67,
          9.15,
          10.2,
          4.4,
          4.4,
          4.4,
          5.14,
          5.97,
          5.97,
          5.14,
          2.8,
          5.37,
          7.13,
          5.79,
          2.79,
          8.79,
          4.4,
          4.4,
          6.17
         ],
         "yaxis": "y4"
        },
        {
         "name": "passenger_density",
         "type": "box",
         "xaxis": "x5",
         "y": [
          42.64,
          42.64,
          31.8,
          36.99,
          38.36,
          34.29,
          34.29,
          34.23,
          34.29,
          29.79,
          36.99,
          31.72,
          34.29,
          34.29,
          40.49,
          36.99,
          41.67,
          34.29,
          41.67,
          34.29,
          41.67,
          36.81,
          36.99,
          36.81,
          39.89,
          44.78,
          41.12,
          44.78,
          41.29,
          44.78,
          34.57,
          44.78,
          24.78,
          34.57,
          35.19,
          40.5,
          40.65,
          36.06,
          38.6,
          38.6,
          32.22,
          40.68,
          39.47,
          29.47,
          38.99,
          62.96,
          54.26,
          39.27,
          57.79,
          45,
          47.62,
          47.43,
          44.2,
          40.87,
          43.87,
          27.94,
          44.25,
          50.73,
          45.19,
          43.8,
          43.8,
          43.8,
          43.75,
          36.06,
          43.75,
          46,
          37.42,
          33.72,
          37.71,
          28.11,
          35.14,
          34.74,
          17.7,
          37.42,
          32.56,
          40.18,
          29.04,
          38.85,
          40.55,
          35.98,
          38.51,
          37.78,
          27.93,
          38.52,
          24.35,
          38.51,
          29.04,
          44.26,
          44.26,
          44.26,
          26.73,
          43.19,
          38.2,
          40.55,
          38.19,
          36.74,
          32.18,
          44.62,
          46.42,
          37.42,
          39.74,
          42.26,
          29.88,
          39.47,
          41.85,
          46.42,
          44.14,
          43.93,
          36.96,
          42.26,
          39.74,
          41.88,
          39.74,
          44.01,
          31.73,
          71.43,
          67.35,
          60,
          65.71,
          44.32,
          36.02,
          24.04,
          38.02,
          44.32,
          36.16,
          38.02,
          44.03,
          36.02,
          38.89,
          36.16,
          26.95,
          44.32,
          30.94,
          44.32,
          40.74,
          36.02,
          32.23,
          36.02,
          25.66,
          33.72,
          32.23,
          44.32,
          48.08,
          48.08,
          48.08,
          56.76,
          65.45,
          64.43,
          56.76,
          50.62,
          23.87,
          28.38,
          31.12,
          50.62,
          39.18,
          33.86,
          32.04,
          47.87
         ],
         "yaxis": "y5"
        },
        {
         "name": "crew",
         "type": "box",
         "xaxis": "x6",
         "y": [
          3.55,
          3.55,
          6.7,
          19.1,
          10,
          9.2,
          9.2,
          9.2,
          9.2,
          11.5,
          11.6,
          6.6,
          9.2,
          9.2,
          9.3,
          11.6,
          10.3,
          9.2,
          9.3,
          9.2,
          10.29,
          10,
          11.6,
          11.5,
          8.58,
          9.99,
          9.09,
          9.99,
          9.09,
          9.99,
          6.7,
          9.99,
          0.6,
          6.7,
          4,
          9.2,
          6.17,
          6.36,
          10.68,
          10.68,
          3.85,
          9.2,
          6,
          10.9,
          7.66,
          6.36,
          5.45,
          9.21,
          12.53,
          9,
          9.45,
          9.45,
          6,
          8,
          5.57,
          5.3,
          8.42,
          4.6,
          6.44,
          5.88,
          5.88,
          5.88,
          5.61,
          6.12,
          5.31,
          8,
          7,
          13.13,
          7,
          5.35,
          9.87,
          7.4,
          2.97,
          7.6,
          4.7,
          11,
          6.14,
          11.09,
          11,
          4.38,
          8,
          10,
          6.3,
          13,
          3.8,
          9.59,
          6.14,
          4,
          4,
          4,
          3.5,
          8.69,
          5.2,
          8.5,
          9,
          7.94,
          12.2,
          11,
          9,
          12,
          9,
          12.38,
          12,
          11,
          11.1,
          9,
          3.73,
          6.96,
          5.2,
          12.38,
          9,
          12,
          9,
          3.73,
          1.46,
          4.45,
          3.24,
          2.11,
          4.47,
          11.85,
          8.48,
          6.71,
          7.6,
          11.76,
          13.6,
          7.6,
          13.6,
          8.69,
          7.2,
          13.6,
          8.22,
          11.85,
          8.22,
          11.85,
          21,
          8.68,
          7.65,
          8.58,
          8.08,
          7.2,
          6.6,
          11.76,
          1.6,
          1.6,
          1.6,
          2.1,
          2.95,
          2.87,
          1.97,
          0.59,
          4.7,
          6.8,
          7.5,
          0.59,
          12,
          0.88,
          0.88,
          1.8
         ],
         "yaxis": "y6"
        }
       ],
       "layout": {
        "template": {
         "data": {
          "bar": [
           {
            "error_x": {
             "color": "#2a3f5f"
            },
            "error_y": {
             "color": "#2a3f5f"
            },
            "marker": {
             "line": {
              "color": "#E5ECF6",
              "width": 0.5
             },
             "pattern": {
              "fillmode": "overlay",
              "size": 10,
              "solidity": 0.2
             }
            },
            "type": "bar"
           }
          ],
          "barpolar": [
           {
            "marker": {
             "line": {
              "color": "#E5ECF6",
              "width": 0.5
             },
             "pattern": {
              "fillmode": "overlay",
              "size": 10,
              "solidity": 0.2
             }
            },
            "type": "barpolar"
           }
          ],
          "carpet": [
           {
            "aaxis": {
             "endlinecolor": "#2a3f5f",
             "gridcolor": "white",
             "linecolor": "white",
             "minorgridcolor": "white",
             "startlinecolor": "#2a3f5f"
            },
            "baxis": {
             "endlinecolor": "#2a3f5f",
             "gridcolor": "white",
             "linecolor": "white",
             "minorgridcolor": "white",
             "startlinecolor": "#2a3f5f"
            },
            "type": "carpet"
           }
          ],
          "choropleth": [
           {
            "colorbar": {
             "outlinewidth": 0,
             "ticks": ""
            },
            "type": "choropleth"
           }
          ],
          "contour": [
           {
            "colorbar": {
             "outlinewidth": 0,
             "ticks": ""
            },
            "colorscale": [
             [
              0,
              "#0d0887"
             ],
             [
              0.1111111111111111,
              "#46039f"
             ],
             [
              0.2222222222222222,
              "#7201a8"
             ],
             [
              0.3333333333333333,
              "#9c179e"
             ],
             [
              0.4444444444444444,
              "#bd3786"
             ],
             [
              0.5555555555555556,
              "#d8576b"
             ],
             [
              0.6666666666666666,
              "#ed7953"
             ],
             [
              0.7777777777777778,
              "#fb9f3a"
             ],
             [
              0.8888888888888888,
              "#fdca26"
             ],
             [
              1,
              "#f0f921"
             ]
            ],
            "type": "contour"
           }
          ],
          "contourcarpet": [
           {
            "colorbar": {
             "outlinewidth": 0,
             "ticks": ""
            },
            "type": "contourcarpet"
           }
          ],
          "heatmap": [
           {
            "colorbar": {
             "outlinewidth": 0,
             "ticks": ""
            },
            "colorscale": [
             [
              0,
              "#0d0887"
             ],
             [
              0.1111111111111111,
              "#46039f"
             ],
             [
              0.2222222222222222,
              "#7201a8"
             ],
             [
              0.3333333333333333,
              "#9c179e"
             ],
             [
              0.4444444444444444,
              "#bd3786"
             ],
             [
              0.5555555555555556,
              "#d8576b"
             ],
             [
              0.6666666666666666,
              "#ed7953"
             ],
             [
              0.7777777777777778,
              "#fb9f3a"
             ],
             [
              0.8888888888888888,
              "#fdca26"
             ],
             [
              1,
              "#f0f921"
             ]
            ],
            "type": "heatmap"
           }
          ],
          "heatmapgl": [
           {
            "colorbar": {
             "outlinewidth": 0,
             "ticks": ""
            },
            "colorscale": [
             [
              0,
              "#0d0887"
             ],
             [
              0.1111111111111111,
              "#46039f"
             ],
             [
              0.2222222222222222,
              "#7201a8"
             ],
             [
              0.3333333333333333,
              "#9c179e"
             ],
             [
              0.4444444444444444,
              "#bd3786"
             ],
             [
              0.5555555555555556,
              "#d8576b"
             ],
             [
              0.6666666666666666,
              "#ed7953"
             ],
             [
              0.7777777777777778,
              "#fb9f3a"
             ],
             [
              0.8888888888888888,
              "#fdca26"
             ],
             [
              1,
              "#f0f921"
             ]
            ],
            "type": "heatmapgl"
           }
          ],
          "histogram": [
           {
            "marker": {
             "pattern": {
              "fillmode": "overlay",
              "size": 10,
              "solidity": 0.2
             }
            },
            "type": "histogram"
           }
          ],
          "histogram2d": [
           {
            "colorbar": {
             "outlinewidth": 0,
             "ticks": ""
            },
            "colorscale": [
             [
              0,
              "#0d0887"
             ],
             [
              0.1111111111111111,
              "#46039f"
             ],
             [
              0.2222222222222222,
              "#7201a8"
             ],
             [
              0.3333333333333333,
              "#9c179e"
             ],
             [
              0.4444444444444444,
              "#bd3786"
             ],
             [
              0.5555555555555556,
              "#d8576b"
             ],
             [
              0.6666666666666666,
              "#ed7953"
             ],
             [
              0.7777777777777778,
              "#fb9f3a"
             ],
             [
              0.8888888888888888,
              "#fdca26"
             ],
             [
              1,
              "#f0f921"
             ]
            ],
            "type": "histogram2d"
           }
          ],
          "histogram2dcontour": [
           {
            "colorbar": {
             "outlinewidth": 0,
             "ticks": ""
            },
            "colorscale": [
             [
              0,
              "#0d0887"
             ],
             [
              0.1111111111111111,
              "#46039f"
             ],
             [
              0.2222222222222222,
              "#7201a8"
             ],
             [
              0.3333333333333333,
              "#9c179e"
             ],
             [
              0.4444444444444444,
              "#bd3786"
             ],
             [
              0.5555555555555556,
              "#d8576b"
             ],
             [
              0.6666666666666666,
              "#ed7953"
             ],
             [
              0.7777777777777778,
              "#fb9f3a"
             ],
             [
              0.8888888888888888,
              "#fdca26"
             ],
             [
              1,
              "#f0f921"
             ]
            ],
            "type": "histogram2dcontour"
           }
          ],
          "mesh3d": [
           {
            "colorbar": {
             "outlinewidth": 0,
             "ticks": ""
            },
            "type": "mesh3d"
           }
          ],
          "parcoords": [
           {
            "line": {
             "colorbar": {
              "outlinewidth": 0,
              "ticks": ""
             }
            },
            "type": "parcoords"
           }
          ],
          "pie": [
           {
            "automargin": true,
            "type": "pie"
           }
          ],
          "scatter": [
           {
            "marker": {
             "colorbar": {
              "outlinewidth": 0,
              "ticks": ""
             }
            },
            "type": "scatter"
           }
          ],
          "scatter3d": [
           {
            "line": {
             "colorbar": {
              "outlinewidth": 0,
              "ticks": ""
             }
            },
            "marker": {
             "colorbar": {
              "outlinewidth": 0,
              "ticks": ""
             }
            },
            "type": "scatter3d"
           }
          ],
          "scattercarpet": [
           {
            "marker": {
             "colorbar": {
              "outlinewidth": 0,
              "ticks": ""
             }
            },
            "type": "scattercarpet"
           }
          ],
          "scattergeo": [
           {
            "marker": {
             "colorbar": {
              "outlinewidth": 0,
              "ticks": ""
             }
            },
            "type": "scattergeo"
           }
          ],
          "scattergl": [
           {
            "marker": {
             "colorbar": {
              "outlinewidth": 0,
              "ticks": ""
             }
            },
            "type": "scattergl"
           }
          ],
          "scattermapbox": [
           {
            "marker": {
             "colorbar": {
              "outlinewidth": 0,
              "ticks": ""
             }
            },
            "type": "scattermapbox"
           }
          ],
          "scatterpolar": [
           {
            "marker": {
             "colorbar": {
              "outlinewidth": 0,
              "ticks": ""
             }
            },
            "type": "scatterpolar"
           }
          ],
          "scatterpolargl": [
           {
            "marker": {
             "colorbar": {
              "outlinewidth": 0,
              "ticks": ""
             }
            },
            "type": "scatterpolargl"
           }
          ],
          "scatterternary": [
           {
            "marker": {
             "colorbar": {
              "outlinewidth": 0,
              "ticks": ""
             }
            },
            "type": "scatterternary"
           }
          ],
          "surface": [
           {
            "colorbar": {
             "outlinewidth": 0,
             "ticks": ""
            },
            "colorscale": [
             [
              0,
              "#0d0887"
             ],
             [
              0.1111111111111111,
              "#46039f"
             ],
             [
              0.2222222222222222,
              "#7201a8"
             ],
             [
              0.3333333333333333,
              "#9c179e"
             ],
             [
              0.4444444444444444,
              "#bd3786"
             ],
             [
              0.5555555555555556,
              "#d8576b"
             ],
             [
              0.6666666666666666,
              "#ed7953"
             ],
             [
              0.7777777777777778,
              "#fb9f3a"
             ],
             [
              0.8888888888888888,
              "#fdca26"
             ],
             [
              1,
              "#f0f921"
             ]
            ],
            "type": "surface"
           }
          ],
          "table": [
           {
            "cells": {
             "fill": {
              "color": "#EBF0F8"
             },
             "line": {
              "color": "white"
             }
            },
            "header": {
             "fill": {
              "color": "#C8D4E3"
             },
             "line": {
              "color": "white"
             }
            },
            "type": "table"
           }
          ]
         },
         "layout": {
          "annotationdefaults": {
           "arrowcolor": "#2a3f5f",
           "arrowhead": 0,
           "arrowwidth": 1
          },
          "autotypenumbers": "strict",
          "coloraxis": {
           "colorbar": {
            "outlinewidth": 0,
            "ticks": ""
           }
          },
          "colorscale": {
           "diverging": [
            [
             0,
             "#8e0152"
            ],
            [
             0.1,
             "#c51b7d"
            ],
            [
             0.2,
             "#de77ae"
            ],
            [
             0.3,
             "#f1b6da"
            ],
            [
             0.4,
             "#fde0ef"
            ],
            [
             0.5,
             "#f7f7f7"
            ],
            [
             0.6,
             "#e6f5d0"
            ],
            [
             0.7,
             "#b8e186"
            ],
            [
             0.8,
             "#7fbc41"
            ],
            [
             0.9,
             "#4d9221"
            ],
            [
             1,
             "#276419"
            ]
           ],
           "sequential": [
            [
             0,
             "#0d0887"
            ],
            [
             0.1111111111111111,
             "#46039f"
            ],
            [
             0.2222222222222222,
             "#7201a8"
            ],
            [
             0.3333333333333333,
             "#9c179e"
            ],
            [
             0.4444444444444444,
             "#bd3786"
            ],
            [
             0.5555555555555556,
             "#d8576b"
            ],
            [
             0.6666666666666666,
             "#ed7953"
            ],
            [
             0.7777777777777778,
             "#fb9f3a"
            ],
            [
             0.8888888888888888,
             "#fdca26"
            ],
            [
             1,
             "#f0f921"
            ]
           ],
           "sequentialminus": [
            [
             0,
             "#0d0887"
            ],
            [
             0.1111111111111111,
             "#46039f"
            ],
            [
             0.2222222222222222,
             "#7201a8"
            ],
            [
             0.3333333333333333,
             "#9c179e"
            ],
            [
             0.4444444444444444,
             "#bd3786"
            ],
            [
             0.5555555555555556,
             "#d8576b"
            ],
            [
             0.6666666666666666,
             "#ed7953"
            ],
            [
             0.7777777777777778,
             "#fb9f3a"
            ],
            [
             0.8888888888888888,
             "#fdca26"
            ],
            [
             1,
             "#f0f921"
            ]
           ]
          },
          "colorway": [
           "#636efa",
           "#EF553B",
           "#00cc96",
           "#ab63fa",
           "#FFA15A",
           "#19d3f3",
           "#FF6692",
           "#B6E880",
           "#FF97FF",
           "#FECB52"
          ],
          "font": {
           "color": "#2a3f5f"
          },
          "geo": {
           "bgcolor": "white",
           "lakecolor": "white",
           "landcolor": "#E5ECF6",
           "showlakes": true,
           "showland": true,
           "subunitcolor": "white"
          },
          "hoverlabel": {
           "align": "left"
          },
          "hovermode": "closest",
          "mapbox": {
           "style": "light"
          },
          "paper_bgcolor": "white",
          "plot_bgcolor": "#E5ECF6",
          "polar": {
           "angularaxis": {
            "gridcolor": "white",
            "linecolor": "white",
            "ticks": ""
           },
           "bgcolor": "#E5ECF6",
           "radialaxis": {
            "gridcolor": "white",
            "linecolor": "white",
            "ticks": ""
           }
          },
          "scene": {
           "xaxis": {
            "backgroundcolor": "#E5ECF6",
            "gridcolor": "white",
            "gridwidth": 2,
            "linecolor": "white",
            "showbackground": true,
            "ticks": "",
            "zerolinecolor": "white"
           },
           "yaxis": {
            "backgroundcolor": "#E5ECF6",
            "gridcolor": "white",
            "gridwidth": 2,
            "linecolor": "white",
            "showbackground": true,
            "ticks": "",
            "zerolinecolor": "white"
           },
           "zaxis": {
            "backgroundcolor": "#E5ECF6",
            "gridcolor": "white",
            "gridwidth": 2,
            "linecolor": "white",
            "showbackground": true,
            "ticks": "",
            "zerolinecolor": "white"
           }
          },
          "shapedefaults": {
           "line": {
            "color": "#2a3f5f"
           }
          },
          "ternary": {
           "aaxis": {
            "gridcolor": "white",
            "linecolor": "white",
            "ticks": ""
           },
           "baxis": {
            "gridcolor": "white",
            "linecolor": "white",
            "ticks": ""
           },
           "bgcolor": "#E5ECF6",
           "caxis": {
            "gridcolor": "white",
            "linecolor": "white",
            "ticks": ""
           }
          },
          "title": {
           "x": 0.05
          },
          "xaxis": {
           "automargin": true,
           "gridcolor": "white",
           "linecolor": "white",
           "ticks": "",
           "title": {
            "standoff": 15
           },
           "zerolinecolor": "white",
           "zerolinewidth": 2
          },
          "yaxis": {
           "automargin": true,
           "gridcolor": "white",
           "linecolor": "white",
           "ticks": "",
           "title": {
            "standoff": 15
           },
           "zerolinecolor": "white",
           "zerolinewidth": 2
          }
         }
        },
        "xaxis": {
         "anchor": "y",
         "domain": [
          0,
          0.1388888888888889
         ]
        },
        "xaxis2": {
         "anchor": "y2",
         "domain": [
          0.17222222222222222,
          0.3111111111111111
         ]
        },
        "xaxis3": {
         "anchor": "y3",
         "domain": [
          0.34444444444444444,
          0.48333333333333334
         ]
        },
        "xaxis4": {
         "anchor": "y4",
         "domain": [
          0.5166666666666667,
          0.6555555555555557
         ]
        },
        "xaxis5": {
         "anchor": "y5",
         "domain": [
          0.6888888888888889,
          0.8277777777777777
         ]
        },
        "xaxis6": {
         "anchor": "y6",
         "domain": [
          0.861111111111111,
          1
         ]
        },
        "yaxis": {
         "anchor": "x",
         "domain": [
          0,
          1
         ]
        },
        "yaxis2": {
         "anchor": "x2",
         "domain": [
          0,
          1
         ]
        },
        "yaxis3": {
         "anchor": "x3",
         "domain": [
          0,
          1
         ]
        },
        "yaxis4": {
         "anchor": "x4",
         "domain": [
          0,
          1
         ]
        },
        "yaxis5": {
         "anchor": "x5",
         "domain": [
          0,
          1
         ]
        },
        "yaxis6": {
         "anchor": "x6",
         "domain": [
          0,
          1
         ]
        }
       }
      }
     },
     "metadata": {},
     "output_type": "display_data"
    }
   ],
   "source": [
    "plotlyboxplot(df, y=cont)"
   ]
  },
  {
   "cell_type": "markdown",
   "metadata": {},
   "source": [
    "Hay algunos datos outlayers pero no lo suficiente para eliminarlos o tener en cuenta ya que no estan lejos del upper y lower fence."
   ]
  },
  {
   "cell_type": "code",
   "execution_count": 18,
   "metadata": {},
   "outputs": [
    {
     "data": {
      "text/plain": [
       "Ship_name            0\n",
       "Cruise_line          0\n",
       "Age                  0\n",
       "Tonnage              0\n",
       "passengers           0\n",
       "length               0\n",
       "cabins               0\n",
       "passenger_density    0\n",
       "crew                 0\n",
       "dtype: int64"
      ]
     },
     "execution_count": 18,
     "metadata": {},
     "output_type": "execute_result"
    }
   ],
   "source": [
    "df.isnull().sum()"
   ]
  },
  {
   "cell_type": "markdown",
   "metadata": {},
   "source": [
    "No hay datos nulos"
   ]
  },
  {
   "cell_type": "code",
   "execution_count": 20,
   "metadata": {},
   "outputs": [
    {
     "data": {
      "application/vnd.plotly.v1+json": {
       "config": {
        "plotlyServerURL": "https://plot.ly"
       },
       "data": [
        {
         "name": "Ship_name",
         "type": "histogram",
         "x": [
          "Journey",
          "Quest",
          "Celebration",
          "Conquest",
          "Destiny",
          "Ecstasy",
          "Elation",
          "Fantasy",
          "Fascination",
          "Freedom",
          "Glory",
          "Holiday",
          "Imagination",
          "Inspiration",
          "Legend",
          "Liberty*",
          "Miracle",
          "Paradise",
          "Pride",
          "Sensation",
          "Spirit",
          "Triumph",
          "Valor",
          "Victory",
          "Century",
          "Constellation",
          "Galaxy",
          "Infinity",
          "Mercury",
          "Millenium",
          "Solstice",
          "Summit",
          "Xpedition",
          "Zenith",
          "Allegra",
          "Atlantica",
          "Classica",
          "Europa",
          "Fortuna",
          "Magica",
          "Marina",
          "Mediterranea",
          "Romantica",
          "Serena",
          "Victoria",
          "Serenity",
          "Symphony",
          "QueenElizabethII",
          "QueenMary2",
          "QueenVictoria",
          "Magic",
          "Wonder",
          "Amsterdam",
          "Eurodam",
          "Maasdam",
          "Noordam",
          "Oosterdam",
          "Prinsendam",
          "Rotterdam",
          "Ryndam",
          "Statendam",
          "Veendam",
          "Volendam",
          "Westerdam",
          "Zaandam",
          "Zuiderdam",
          "Armonia",
          "Fantasia",
          "Lirica",
          "Melody",
          "Musica",
          "Opera",
          "Rhapsody",
          "Sinfonia",
          "Crown",
          "Dawn",
          "Dream",
          "Gem",
          "Jewel",
          "Majesty",
          "PrideofAloha",
          "PrideofAmerica",
          "Sea",
          "Spirit",
          "Star",
          "Sun",
          "Wind",
          "Insignia",
          "Nautica",
          "Regatta",
          "MarcoPolo",
          "Arcadia",
          "Artemis",
          "Aurora",
          "Oceana",
          "Oriana",
          "Ventura",
          "Caribbean",
          "Coral",
          "Crown",
          "Dawn",
          "Diamond",
          "Emerald",
          "Golden",
          "Grand",
          "Island",
          "Pacific",
          "Regal",
          "Royal",
          "Saphire",
          "Sea",
          "Star",
          "Sun",
          "Tahitian",
          "ExplorerII",
          "Mariner",
          "Navigator",
          "PaulGauguin",
          "Voyager",
          "Adventure",
          "Brilliance",
          "Empress",
          "Enchantment",
          "Explorer",
          "Freedom",
          "Grandeur",
          "Independence",
          "Jewel",
          "Legend",
          "Liberty",
          "Majesty",
          "Mariner",
          "Monarch",
          "Navigator",
          "Oasis",
          "Radiance",
          "Rhapsody",
          "Serenade",
          "Sovreign",
          "Splendour",
          "Vision",
          "Voyager",
          "Legend",
          "Pride",
          "Spirit",
          "Cloud",
          "Shadow",
          "Whisper",
          "Wind",
          "Aries",
          "Gemini",
          "Libra",
          "Pisces",
          "Taurus",
          "Virgo",
          "Spirit",
          "Star",
          "Surf"
         ],
         "xaxis": "x",
         "yaxis": "y"
        },
        {
         "name": "Cruise_line",
         "type": "histogram",
         "x": [
          "Azamara",
          "Azamara",
          "Carnival",
          "Carnival",
          "Carnival",
          "Carnival",
          "Carnival",
          "Carnival",
          "Carnival",
          "Carnival",
          "Carnival",
          "Carnival",
          "Carnival",
          "Carnival",
          "Carnival",
          "Carnival",
          "Carnival",
          "Carnival",
          "Carnival",
          "Carnival",
          "Carnival",
          "Carnival",
          "Carnival",
          "Carnival",
          "Celebrity",
          "Celebrity",
          "Celebrity",
          "Celebrity",
          "Celebrity",
          "Celebrity",
          "Celebrity",
          "Celebrity",
          "Celebrity",
          "Celebrity",
          "Costa",
          "Costa",
          "Costa",
          "Costa",
          "Costa",
          "Costa",
          "Costa",
          "Costa",
          "Costa",
          "Costa",
          "Costa",
          "Crystal",
          "Crystal",
          "Cunard",
          "Cunard",
          "Cunard",
          "Disney",
          "Disney",
          "Holland_American",
          "Holland_American",
          "Holland_American",
          "Holland_American",
          "Holland_American",
          "Holland_American",
          "Holland_American",
          "Holland_American",
          "Holland_American",
          "Holland_American",
          "Holland_American",
          "Holland_American",
          "Holland_American",
          "Holland_American",
          "MSC",
          "MSC",
          "MSC",
          "MSC",
          "MSC",
          "MSC",
          "MSC",
          "MSC",
          "Norwegian",
          "Norwegian",
          "Norwegian",
          "Norwegian",
          "Norwegian",
          "Norwegian",
          "Norwegian",
          "Norwegian",
          "Norwegian",
          "Norwegian",
          "Norwegian",
          "Norwegian",
          "Norwegian",
          "Oceania",
          "Oceania",
          "Oceania",
          "Orient",
          "P&O",
          "P&O",
          "P&O",
          "P&O",
          "P&O",
          "P&O",
          "Princess",
          "Princess",
          "Princess",
          "Princess",
          "Princess",
          "Princess",
          "Princess",
          "Princess",
          "Princess",
          "Princess",
          "Princess",
          "Princess",
          "Princess",
          "Princess",
          "Princess",
          "Princess",
          "Princess",
          "Regent_Seven_Seas",
          "Regent_Seven_Seas",
          "Regent_Seven_Seas",
          "Regent_Seven_Seas",
          "Regent_Seven_Seas",
          "Royal_Caribbean",
          "Royal_Caribbean",
          "Royal_Caribbean",
          "Royal_Caribbean",
          "Royal_Caribbean",
          "Royal_Caribbean",
          "Royal_Caribbean",
          "Royal_Caribbean",
          "Royal_Caribbean",
          "Royal_Caribbean",
          "Royal_Caribbean",
          "Royal_Caribbean",
          "Royal_Caribbean",
          "Royal_Caribbean",
          "Royal_Caribbean",
          "Royal_Caribbean",
          "Royal_Caribbean",
          "Royal_Caribbean",
          "Royal_Caribbean",
          "Royal_Caribbean",
          "Royal_Caribbean",
          "Royal_Caribbean",
          "Royal_Caribbean",
          "Seabourn",
          "Seabourn",
          "Seabourn",
          "Silversea",
          "Silversea",
          "Silversea",
          "Silversea",
          "Star",
          "Star",
          "Star",
          "Star",
          "Star",
          "Star",
          "Windstar",
          "Windstar",
          "Windstar"
         ],
         "xaxis": "x2",
         "yaxis": "y2"
        }
       ],
       "layout": {
        "template": {
         "data": {
          "bar": [
           {
            "error_x": {
             "color": "#2a3f5f"
            },
            "error_y": {
             "color": "#2a3f5f"
            },
            "marker": {
             "line": {
              "color": "#E5ECF6",
              "width": 0.5
             },
             "pattern": {
              "fillmode": "overlay",
              "size": 10,
              "solidity": 0.2
             }
            },
            "type": "bar"
           }
          ],
          "barpolar": [
           {
            "marker": {
             "line": {
              "color": "#E5ECF6",
              "width": 0.5
             },
             "pattern": {
              "fillmode": "overlay",
              "size": 10,
              "solidity": 0.2
             }
            },
            "type": "barpolar"
           }
          ],
          "carpet": [
           {
            "aaxis": {
             "endlinecolor": "#2a3f5f",
             "gridcolor": "white",
             "linecolor": "white",
             "minorgridcolor": "white",
             "startlinecolor": "#2a3f5f"
            },
            "baxis": {
             "endlinecolor": "#2a3f5f",
             "gridcolor": "white",
             "linecolor": "white",
             "minorgridcolor": "white",
             "startlinecolor": "#2a3f5f"
            },
            "type": "carpet"
           }
          ],
          "choropleth": [
           {
            "colorbar": {
             "outlinewidth": 0,
             "ticks": ""
            },
            "type": "choropleth"
           }
          ],
          "contour": [
           {
            "colorbar": {
             "outlinewidth": 0,
             "ticks": ""
            },
            "colorscale": [
             [
              0,
              "#0d0887"
             ],
             [
              0.1111111111111111,
              "#46039f"
             ],
             [
              0.2222222222222222,
              "#7201a8"
             ],
             [
              0.3333333333333333,
              "#9c179e"
             ],
             [
              0.4444444444444444,
              "#bd3786"
             ],
             [
              0.5555555555555556,
              "#d8576b"
             ],
             [
              0.6666666666666666,
              "#ed7953"
             ],
             [
              0.7777777777777778,
              "#fb9f3a"
             ],
             [
              0.8888888888888888,
              "#fdca26"
             ],
             [
              1,
              "#f0f921"
             ]
            ],
            "type": "contour"
           }
          ],
          "contourcarpet": [
           {
            "colorbar": {
             "outlinewidth": 0,
             "ticks": ""
            },
            "type": "contourcarpet"
           }
          ],
          "heatmap": [
           {
            "colorbar": {
             "outlinewidth": 0,
             "ticks": ""
            },
            "colorscale": [
             [
              0,
              "#0d0887"
             ],
             [
              0.1111111111111111,
              "#46039f"
             ],
             [
              0.2222222222222222,
              "#7201a8"
             ],
             [
              0.3333333333333333,
              "#9c179e"
             ],
             [
              0.4444444444444444,
              "#bd3786"
             ],
             [
              0.5555555555555556,
              "#d8576b"
             ],
             [
              0.6666666666666666,
              "#ed7953"
             ],
             [
              0.7777777777777778,
              "#fb9f3a"
             ],
             [
              0.8888888888888888,
              "#fdca26"
             ],
             [
              1,
              "#f0f921"
             ]
            ],
            "type": "heatmap"
           }
          ],
          "heatmapgl": [
           {
            "colorbar": {
             "outlinewidth": 0,
             "ticks": ""
            },
            "colorscale": [
             [
              0,
              "#0d0887"
             ],
             [
              0.1111111111111111,
              "#46039f"
             ],
             [
              0.2222222222222222,
              "#7201a8"
             ],
             [
              0.3333333333333333,
              "#9c179e"
             ],
             [
              0.4444444444444444,
              "#bd3786"
             ],
             [
              0.5555555555555556,
              "#d8576b"
             ],
             [
              0.6666666666666666,
              "#ed7953"
             ],
             [
              0.7777777777777778,
              "#fb9f3a"
             ],
             [
              0.8888888888888888,
              "#fdca26"
             ],
             [
              1,
              "#f0f921"
             ]
            ],
            "type": "heatmapgl"
           }
          ],
          "histogram": [
           {
            "marker": {
             "pattern": {
              "fillmode": "overlay",
              "size": 10,
              "solidity": 0.2
             }
            },
            "type": "histogram"
           }
          ],
          "histogram2d": [
           {
            "colorbar": {
             "outlinewidth": 0,
             "ticks": ""
            },
            "colorscale": [
             [
              0,
              "#0d0887"
             ],
             [
              0.1111111111111111,
              "#46039f"
             ],
             [
              0.2222222222222222,
              "#7201a8"
             ],
             [
              0.3333333333333333,
              "#9c179e"
             ],
             [
              0.4444444444444444,
              "#bd3786"
             ],
             [
              0.5555555555555556,
              "#d8576b"
             ],
             [
              0.6666666666666666,
              "#ed7953"
             ],
             [
              0.7777777777777778,
              "#fb9f3a"
             ],
             [
              0.8888888888888888,
              "#fdca26"
             ],
             [
              1,
              "#f0f921"
             ]
            ],
            "type": "histogram2d"
           }
          ],
          "histogram2dcontour": [
           {
            "colorbar": {
             "outlinewidth": 0,
             "ticks": ""
            },
            "colorscale": [
             [
              0,
              "#0d0887"
             ],
             [
              0.1111111111111111,
              "#46039f"
             ],
             [
              0.2222222222222222,
              "#7201a8"
             ],
             [
              0.3333333333333333,
              "#9c179e"
             ],
             [
              0.4444444444444444,
              "#bd3786"
             ],
             [
              0.5555555555555556,
              "#d8576b"
             ],
             [
              0.6666666666666666,
              "#ed7953"
             ],
             [
              0.7777777777777778,
              "#fb9f3a"
             ],
             [
              0.8888888888888888,
              "#fdca26"
             ],
             [
              1,
              "#f0f921"
             ]
            ],
            "type": "histogram2dcontour"
           }
          ],
          "mesh3d": [
           {
            "colorbar": {
             "outlinewidth": 0,
             "ticks": ""
            },
            "type": "mesh3d"
           }
          ],
          "parcoords": [
           {
            "line": {
             "colorbar": {
              "outlinewidth": 0,
              "ticks": ""
             }
            },
            "type": "parcoords"
           }
          ],
          "pie": [
           {
            "automargin": true,
            "type": "pie"
           }
          ],
          "scatter": [
           {
            "marker": {
             "colorbar": {
              "outlinewidth": 0,
              "ticks": ""
             }
            },
            "type": "scatter"
           }
          ],
          "scatter3d": [
           {
            "line": {
             "colorbar": {
              "outlinewidth": 0,
              "ticks": ""
             }
            },
            "marker": {
             "colorbar": {
              "outlinewidth": 0,
              "ticks": ""
             }
            },
            "type": "scatter3d"
           }
          ],
          "scattercarpet": [
           {
            "marker": {
             "colorbar": {
              "outlinewidth": 0,
              "ticks": ""
             }
            },
            "type": "scattercarpet"
           }
          ],
          "scattergeo": [
           {
            "marker": {
             "colorbar": {
              "outlinewidth": 0,
              "ticks": ""
             }
            },
            "type": "scattergeo"
           }
          ],
          "scattergl": [
           {
            "marker": {
             "colorbar": {
              "outlinewidth": 0,
              "ticks": ""
             }
            },
            "type": "scattergl"
           }
          ],
          "scattermapbox": [
           {
            "marker": {
             "colorbar": {
              "outlinewidth": 0,
              "ticks": ""
             }
            },
            "type": "scattermapbox"
           }
          ],
          "scatterpolar": [
           {
            "marker": {
             "colorbar": {
              "outlinewidth": 0,
              "ticks": ""
             }
            },
            "type": "scatterpolar"
           }
          ],
          "scatterpolargl": [
           {
            "marker": {
             "colorbar": {
              "outlinewidth": 0,
              "ticks": ""
             }
            },
            "type": "scatterpolargl"
           }
          ],
          "scatterternary": [
           {
            "marker": {
             "colorbar": {
              "outlinewidth": 0,
              "ticks": ""
             }
            },
            "type": "scatterternary"
           }
          ],
          "surface": [
           {
            "colorbar": {
             "outlinewidth": 0,
             "ticks": ""
            },
            "colorscale": [
             [
              0,
              "#0d0887"
             ],
             [
              0.1111111111111111,
              "#46039f"
             ],
             [
              0.2222222222222222,
              "#7201a8"
             ],
             [
              0.3333333333333333,
              "#9c179e"
             ],
             [
              0.4444444444444444,
              "#bd3786"
             ],
             [
              0.5555555555555556,
              "#d8576b"
             ],
             [
              0.6666666666666666,
              "#ed7953"
             ],
             [
              0.7777777777777778,
              "#fb9f3a"
             ],
             [
              0.8888888888888888,
              "#fdca26"
             ],
             [
              1,
              "#f0f921"
             ]
            ],
            "type": "surface"
           }
          ],
          "table": [
           {
            "cells": {
             "fill": {
              "color": "#EBF0F8"
             },
             "line": {
              "color": "white"
             }
            },
            "header": {
             "fill": {
              "color": "#C8D4E3"
             },
             "line": {
              "color": "white"
             }
            },
            "type": "table"
           }
          ]
         },
         "layout": {
          "annotationdefaults": {
           "arrowcolor": "#2a3f5f",
           "arrowhead": 0,
           "arrowwidth": 1
          },
          "autotypenumbers": "strict",
          "coloraxis": {
           "colorbar": {
            "outlinewidth": 0,
            "ticks": ""
           }
          },
          "colorscale": {
           "diverging": [
            [
             0,
             "#8e0152"
            ],
            [
             0.1,
             "#c51b7d"
            ],
            [
             0.2,
             "#de77ae"
            ],
            [
             0.3,
             "#f1b6da"
            ],
            [
             0.4,
             "#fde0ef"
            ],
            [
             0.5,
             "#f7f7f7"
            ],
            [
             0.6,
             "#e6f5d0"
            ],
            [
             0.7,
             "#b8e186"
            ],
            [
             0.8,
             "#7fbc41"
            ],
            [
             0.9,
             "#4d9221"
            ],
            [
             1,
             "#276419"
            ]
           ],
           "sequential": [
            [
             0,
             "#0d0887"
            ],
            [
             0.1111111111111111,
             "#46039f"
            ],
            [
             0.2222222222222222,
             "#7201a8"
            ],
            [
             0.3333333333333333,
             "#9c179e"
            ],
            [
             0.4444444444444444,
             "#bd3786"
            ],
            [
             0.5555555555555556,
             "#d8576b"
            ],
            [
             0.6666666666666666,
             "#ed7953"
            ],
            [
             0.7777777777777778,
             "#fb9f3a"
            ],
            [
             0.8888888888888888,
             "#fdca26"
            ],
            [
             1,
             "#f0f921"
            ]
           ],
           "sequentialminus": [
            [
             0,
             "#0d0887"
            ],
            [
             0.1111111111111111,
             "#46039f"
            ],
            [
             0.2222222222222222,
             "#7201a8"
            ],
            [
             0.3333333333333333,
             "#9c179e"
            ],
            [
             0.4444444444444444,
             "#bd3786"
            ],
            [
             0.5555555555555556,
             "#d8576b"
            ],
            [
             0.6666666666666666,
             "#ed7953"
            ],
            [
             0.7777777777777778,
             "#fb9f3a"
            ],
            [
             0.8888888888888888,
             "#fdca26"
            ],
            [
             1,
             "#f0f921"
            ]
           ]
          },
          "colorway": [
           "#636efa",
           "#EF553B",
           "#00cc96",
           "#ab63fa",
           "#FFA15A",
           "#19d3f3",
           "#FF6692",
           "#B6E880",
           "#FF97FF",
           "#FECB52"
          ],
          "font": {
           "color": "#2a3f5f"
          },
          "geo": {
           "bgcolor": "white",
           "lakecolor": "white",
           "landcolor": "#E5ECF6",
           "showlakes": true,
           "showland": true,
           "subunitcolor": "white"
          },
          "hoverlabel": {
           "align": "left"
          },
          "hovermode": "closest",
          "mapbox": {
           "style": "light"
          },
          "paper_bgcolor": "white",
          "plot_bgcolor": "#E5ECF6",
          "polar": {
           "angularaxis": {
            "gridcolor": "white",
            "linecolor": "white",
            "ticks": ""
           },
           "bgcolor": "#E5ECF6",
           "radialaxis": {
            "gridcolor": "white",
            "linecolor": "white",
            "ticks": ""
           }
          },
          "scene": {
           "xaxis": {
            "backgroundcolor": "#E5ECF6",
            "gridcolor": "white",
            "gridwidth": 2,
            "linecolor": "white",
            "showbackground": true,
            "ticks": "",
            "zerolinecolor": "white"
           },
           "yaxis": {
            "backgroundcolor": "#E5ECF6",
            "gridcolor": "white",
            "gridwidth": 2,
            "linecolor": "white",
            "showbackground": true,
            "ticks": "",
            "zerolinecolor": "white"
           },
           "zaxis": {
            "backgroundcolor": "#E5ECF6",
            "gridcolor": "white",
            "gridwidth": 2,
            "linecolor": "white",
            "showbackground": true,
            "ticks": "",
            "zerolinecolor": "white"
           }
          },
          "shapedefaults": {
           "line": {
            "color": "#2a3f5f"
           }
          },
          "ternary": {
           "aaxis": {
            "gridcolor": "white",
            "linecolor": "white",
            "ticks": ""
           },
           "baxis": {
            "gridcolor": "white",
            "linecolor": "white",
            "ticks": ""
           },
           "bgcolor": "#E5ECF6",
           "caxis": {
            "gridcolor": "white",
            "linecolor": "white",
            "ticks": ""
           }
          },
          "title": {
           "x": 0.05
          },
          "xaxis": {
           "automargin": true,
           "gridcolor": "white",
           "linecolor": "white",
           "ticks": "",
           "title": {
            "standoff": 15
           },
           "zerolinecolor": "white",
           "zerolinewidth": 2
          },
          "yaxis": {
           "automargin": true,
           "gridcolor": "white",
           "linecolor": "white",
           "ticks": "",
           "title": {
            "standoff": 15
           },
           "zerolinecolor": "white",
           "zerolinewidth": 2
          }
         }
        },
        "xaxis": {
         "anchor": "y",
         "domain": [
          0,
          0.45
         ]
        },
        "xaxis2": {
         "anchor": "y2",
         "domain": [
          0.55,
          1
         ]
        },
        "yaxis": {
         "anchor": "x",
         "domain": [
          0,
          1
         ]
        },
        "yaxis2": {
         "anchor": "x2",
         "domain": [
          0,
          1
         ]
        }
       }
      }
     },
     "metadata": {},
     "output_type": "display_data"
    }
   ],
   "source": [
    "plotlyhistograms(data=df, variables=['Ship_name', 'Cruise_line'])"
   ]
  },
  {
   "cell_type": "markdown",
   "metadata": {},
   "source": [
    "No tomaremos en cuenta la variable 'Ship_name' debido a que no son importantes(son solo un nombre de cada barco)"
   ]
  },
  {
   "cell_type": "code",
   "execution_count": 27,
   "metadata": {},
   "outputs": [],
   "source": [
    "df1 = pd.get_dummies(df, columns=['Cruise_line'])"
   ]
  },
  {
   "cell_type": "code",
   "execution_count": 29,
   "metadata": {},
   "outputs": [],
   "source": [
    "df1.drop(['passenger_density', 'Age', 'Ship_name', 'crew'], axis=1, inplace=True)"
   ]
  },
  {
   "cell_type": "markdown",
   "metadata": {},
   "source": [
    "'passenger_density', 'Age' y 'Ship_name' no se tomaran en cuenta para el modelo por las razones antes explicadas."
   ]
  },
  {
   "cell_type": "code",
   "execution_count": 34,
   "metadata": {},
   "outputs": [],
   "source": [
    "X = df1\n",
    "y = df['crew']"
   ]
  },
  {
   "cell_type": "code",
   "execution_count": 36,
   "metadata": {},
   "outputs": [],
   "source": [
    "#Split de dataset\n",
    "X_train, X_test, y_train, y_test = train_test_split(X, y, test_size=0.4, random_state=7)"
   ]
  },
  {
   "cell_type": "code",
   "execution_count": 47,
   "metadata": {},
   "outputs": [],
   "source": [
    "from sklearn.linear_model import ElasticNet\n",
    "linear_model = ElasticNet()\n",
    "linear_model.fit(X_train, y_train)\n"
   ]
  },
  {
   "cell_type": "code",
   "execution_count": 49,
   "metadata": {},
   "outputs": [
    {
     "data": {
      "text/plain": [
       "0.8844863444698192"
      ]
     },
     "execution_count": 49,
     "metadata": {},
     "output_type": "execute_result"
    }
   ],
   "source": [
    "linear_model.score(X_test, y_test)"
   ]
  },
  {
   "cell_type": "code",
   "execution_count": 50,
   "metadata": {},
   "outputs": [
    {
     "data": {
      "text/plain": [
       "0.9045584286555552"
      ]
     },
     "execution_count": 50,
     "metadata": {},
     "output_type": "execute_result"
    }
   ],
   "source": [
    "linear_model.score(X_train, y_train)"
   ]
  },
  {
   "cell_type": "markdown",
   "metadata": {},
   "source": [
    "Como podemos observar se tiene buenos valores para pearson, pero vamos a observar si se puede mejorar"
   ]
  },
  {
   "cell_type": "code",
   "execution_count": 51,
   "metadata": {},
   "outputs": [
    {
     "data": {
      "text/plain": [
       "{'alpha': 1.0,\n",
       " 'copy_X': True,\n",
       " 'fit_intercept': True,\n",
       " 'l1_ratio': 0.5,\n",
       " 'max_iter': 1000,\n",
       " 'normalize': 'deprecated',\n",
       " 'positive': False,\n",
       " 'precompute': False,\n",
       " 'random_state': None,\n",
       " 'selection': 'cyclic',\n",
       " 'tol': 0.0001,\n",
       " 'warm_start': False}"
      ]
     },
     "execution_count": 51,
     "metadata": {},
     "output_type": "execute_result"
    }
   ],
   "source": [
    "linear_model.get_params()"
   ]
  },
  {
   "cell_type": "markdown",
   "metadata": {},
   "source": [
    "Los hiperparametros a tener en cuenta son los alpha y los l1_ratio, para cambiarlos y obtener los valores optiomos utilizaremos una curva de validación para cada hiperparametro junto con cross validation donde observaremos y seleccionaremos el degree que tenga mejor r2 "
   ]
  },
  {
   "cell_type": "code",
   "execution_count": 54,
   "metadata": {},
   "outputs": [
    {
     "data": {
      "text/plain": [
       "<matplotlib.legend.Legend at 0x25b813c7ee0>"
      ]
     },
     "execution_count": 54,
     "metadata": {},
     "output_type": "execute_result"
    },
    {
     "data": {
      "image/png": "[encoded data removed]",
      "text/plain": [
       "<Figure size 720x576 with 1 Axes>"
      ]
     },
     "metadata": {
      "needs_background": "light"
     },
     "output_type": "display_data"
    }
   ],
   "source": [
    "from sklearn.model_selection import validation_curve\n",
    "degree = np.arange(0.1, 10, 0.1)\n",
    "score_train, score_test = validation_curve(linear_model, X, y, param_name='alpha', param_range=degree, cv=5, scoring='r2')\n",
    "plt.figure(figsize=(10,8))\n",
    "plt.plot(degree, score_test.mean(axis=1), label='test')\n",
    "plt.plot(degree, score_train.mean(axis=1), label='train')\n",
    "plt.title('Validation Curve')\n",
    "plt.xlabel('aplha Degree')\n",
    "plt.ylabel('R2 Score')\n",
    "plt.legend()"
   ]
  },
  {
   "cell_type": "code",
   "execution_count": 56,
   "metadata": {},
   "outputs": [],
   "source": [
    "indx = score_test.mean(axis=1).argmax()\n",
    "best_degree = degree[indx]\n",
    "alpha1 = best_degree"
   ]
  },
  {
   "cell_type": "code",
   "execution_count": 71,
   "metadata": {},
   "outputs": [
    {
     "data": {
      "text/plain": [
       "<matplotlib.legend.Legend at 0x25b8721cfa0>"
      ]
     },
     "execution_count": 71,
     "metadata": {},
     "output_type": "execute_result"
    },
    {
     "data": {
      "image/png": "[encoded data removed]",
      "text/plain": [
       "<Figure size 720x576 with 1 Axes>"
      ]
     },
     "metadata": {
      "needs_background": "light"
     },
     "output_type": "display_data"
    }
   ],
   "source": [
    "from sklearn.model_selection import validation_curve\n",
    "degree = np.arange(0.01, 1, 0.01)\n",
    "score_train, score_test = validation_curve(linear_model, X, y, param_name='l1_ratio', param_range=degree, cv=5, scoring='r2')\n",
    "plt.figure(figsize=(10,8))\n",
    "plt.plot(degree, score_test.mean(axis=1), label='test')\n",
    "plt.plot(degree, score_train.mean(axis=1), label='train')\n",
    "plt.title('Validation Curve')\n",
    "plt.xlabel('l1_ratio Degree')\n",
    "plt.ylabel('R2 Score')\n",
    "plt.legend()"
   ]
  },
  {
   "cell_type": "code",
   "execution_count": 73,
   "metadata": {},
   "outputs": [],
   "source": [
    "indx = score_test.mean(axis=1).argmax()\n",
    "best_degree = degree[indx]\n",
    "l1_r = best_degree"
   ]
  },
  {
   "cell_type": "markdown",
   "metadata": {},
   "source": [
    "Vamos a volver a hacer la regresion con esos hiperparametros corregidos."
   ]
  },
  {
   "cell_type": "code",
   "execution_count": 75,
   "metadata": {},
   "outputs": [
    {
     "data": {
      "text/plain": [
       "ElasticNet(alpha=0.1, l1_ratio=0.01)"
      ]
     },
     "execution_count": 75,
     "metadata": {},
     "output_type": "execute_result"
    }
   ],
   "source": [
    "linear_model = ElasticNet(alpha=alpha1, l1_ratio=l1_r)\n",
    "linear_model.fit(X_train, y_train)"
   ]
  },
  {
   "cell_type": "code",
   "execution_count": 76,
   "metadata": {},
   "outputs": [
    {
     "data": {
      "text/plain": [
       "0.9108158809286179"
      ]
     },
     "execution_count": 76,
     "metadata": {},
     "output_type": "execute_result"
    }
   ],
   "source": [
    "linear_model.score(X_test, y_test)"
   ]
  },
  {
   "cell_type": "markdown",
   "metadata": {},
   "source": [
    "Y como podemos observar se mejora la precisión del modelo"
   ]
  },
  {
   "cell_type": "markdown",
   "metadata": {},
   "source": [
    "La regularizacion nos ayuda para reducir la varianza del modelo y corregir el overfitting, el parametro que se uso fue el L1 y L2 debido a que el modelo es Elastic Net que es un punto medio entre el ridge y el lasso."
   ]
  },
  {
   "cell_type": "code",
   "execution_count": 78,
   "metadata": {},
   "outputs": [
    {
     "data": {
      "text/plain": [
       "<matplotlib.legend.Legend at 0x25b86e6b250>"
      ]
     },
     "execution_count": 78,
     "metadata": {},
     "output_type": "execute_result"
    },
    {
     "data": {
      "image/png": "[encoded data removed]",
      "text/plain": [
       "<Figure size 432x288 with 1 Axes>"
      ]
     },
     "metadata": {
      "needs_background": "light"
     },
     "output_type": "display_data"
    }
   ],
   "source": [
    "from sklearn.model_selection import learning_curve\n",
    "N, train_score, test_score = learning_curve(linear_model, X, y, cv=5, train_sizes=[0.1, 0.5, 1.0] ,scoring='r2')\n",
    "plt.figure()\n",
    "plt.plot(N, train_score.mean(axis=1), label='train')\n",
    "plt.plot(N, test_score.mean(axis=1), label= 'test')\n",
    "plt.title('Learning Curve')\n",
    "plt.xlabel('Cantidad Datos')\n",
    "plt.ylabel('R2 Score')\n",
    "plt.legend()"
   ]
  },
  {
   "cell_type": "markdown",
   "metadata": {},
   "source": [
    "Con el learning curve podemos observar que no hay ni Overfitting ni Underfitting, el modelo se comporta bien de manera general."
   ]
  }
 ],
 "metadata": {
  "kernelspec": {
   "display_name": "Python 3.10.0 64-bit",
   "language": "python",
   "name": "python3"
  },
  "language_info": {
   "codemirror_mode": {
    "name": "ipython",
    "version": 3
   },
   "file_extension": ".py",
   "mimetype": "text/x-python",
   "name": "python",
   "nbconvert_exporter": "python",
   "pygments_lexer": "ipython3",
   "version": "3.10.0"
  },
  "orig_nbformat": 4,
  "vscode": {
   "interpreter": {
    "hash": "26de051ba29f2982a8de78e945f0abaf191376122a1563185a90213a26c5da77"
   }
  }
 },
 "nbformat": 4,
 "nbformat_minor": 2
}
